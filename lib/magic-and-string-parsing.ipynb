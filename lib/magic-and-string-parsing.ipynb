{
 "cells": [
  {
   "cell_type": "code",
   "execution_count": 1,
   "metadata": {},
   "outputs": [],
   "source": [
    "from IPython.core.magic import register_line_magic\n",
    "import sys"
   ]
  },
  {
   "cell_type": "code",
   "execution_count": 2,
   "metadata": {},
   "outputs": [],
   "source": [
    "zzz = 4\n",
    "@register_line_magic\n",
    "def mymagic(line):\n",
    "    \"\"\"My line magic. Sure is.\"\"\"\n",
    "    f = sys._getframe(2)\n",
    "    display(f.f_locals)\n",
    "    return f'The line: [{line}]'"
   ]
  },
  {
   "cell_type": "code",
   "execution_count": 3,
   "metadata": {},
   "outputs": [
    {
     "data": {
      "text/plain": [
       "{'In': ['',\n",
       "  'from IPython.core.magic import register_line_magic\\nimport sys',\n",
       "  'zzz = 4\\n@register_line_magic\\ndef mymagic(line):\\n    \"\"\"My line magic. Sure is.\"\"\"\\n    f = sys._getframe(2)\\n    display(f.f_locals)\\n    return f\\'The line: [{line}]\\'',\n",
       "  \"get_ipython().run_line_magic('mymagic', 'foo bar 4,5,zap')\"],\n",
       " 'Out': {},\n",
       " '_': '',\n",
       " '__': '',\n",
       " '___': '',\n",
       " '__builtin__': <module 'builtins' (built-in)>,\n",
       " '__builtins__': <module 'builtins' (built-in)>,\n",
       " '__doc__': 'Automatically created module for IPython interactive environment',\n",
       " '__loader__': None,\n",
       " '__name__': '__main__',\n",
       " '__package__': None,\n",
       " '__spec__': None,\n",
       " '_dh': ['/files/work/git/ca-steel-design/lib'],\n",
       " '_i': 'zzz = 4\\n@register_line_magic\\ndef mymagic(line):\\n    \"\"\"My line magic. Sure is.\"\"\"\\n    f = sys._getframe(2)\\n    display(f.f_locals)\\n    return f\\'The line: [{line}]\\'',\n",
       " '_i1': 'from IPython.core.magic import register_line_magic\\nimport sys',\n",
       " '_i2': 'zzz = 4\\n@register_line_magic\\ndef mymagic(line):\\n    \"\"\"My line magic. Sure is.\"\"\"\\n    f = sys._getframe(2)\\n    display(f.f_locals)\\n    return f\\'The line: [{line}]\\'',\n",
       " '_i3': '%mymagic foo bar 4,5,zap',\n",
       " '_ih': ['',\n",
       "  'from IPython.core.magic import register_line_magic\\nimport sys',\n",
       "  'zzz = 4\\n@register_line_magic\\ndef mymagic(line):\\n    \"\"\"My line magic. Sure is.\"\"\"\\n    f = sys._getframe(2)\\n    display(f.f_locals)\\n    return f\\'The line: [{line}]\\'',\n",
       "  \"get_ipython().run_line_magic('mymagic', 'foo bar 4,5,zap')\"],\n",
       " '_ii': 'from IPython.core.magic import register_line_magic\\nimport sys',\n",
       " '_iii': '',\n",
       " '_oh': {},\n",
       " 'exit': <IPython.core.autocall.ZMQExitAutocall at 0x7f054aa39cf8>,\n",
       " 'get_ipython': <bound method InteractiveShell.get_ipython of <ipykernel.zmqshell.ZMQInteractiveShell object at 0x7f054bc88668>>,\n",
       " 'mymagic': <function __main__.mymagic>,\n",
       " 'quit': <IPython.core.autocall.ZMQExitAutocall at 0x7f054aa39cf8>,\n",
       " 'register_line_magic': <function IPython.core.magic._function_magic_marker.<locals>.magic_deco>,\n",
       " 'sys': <module 'sys' (built-in)>,\n",
       " 'zzz': 4}"
      ]
     },
     "metadata": {},
     "output_type": "display_data"
    },
    {
     "data": {
      "text/plain": [
       "'The line: [foo bar 4,5,zap]'"
      ]
     },
     "execution_count": 3,
     "metadata": {},
     "output_type": "execute_result"
    }
   ],
   "source": [
    "%mymagic foo bar 4,5,zap"
   ]
  },
  {
   "cell_type": "code",
   "execution_count": 4,
   "metadata": {},
   "outputs": [
    {
     "name": "stderr",
     "output_type": "stream",
     "text": [
      "UsageError: Line magic function `%display` not found.\n"
     ]
    }
   ],
   "source": [
    "%display foo"
   ]
  },
  {
   "cell_type": "code",
   "execution_count": 5,
   "metadata": {},
   "outputs": [
    {
     "name": "stderr",
     "output_type": "stream",
     "text": [
      "UsageError: Line magic function `%zibidy` not found.\n"
     ]
    }
   ],
   "source": [
    "%zibidy"
   ]
  },
  {
   "cell_type": "code",
   "execution_count": 6,
   "metadata": {},
   "outputs": [
    {
     "ename": "TypeError",
     "evalue": "mymagic() takes 1 positional argument but 2 were given",
     "output_type": "error",
     "traceback": [
      "\u001b[0;31m---------------------------------------------------------------------------\u001b[0m",
      "\u001b[0;31mTypeError\u001b[0m                                 Traceback (most recent call last)",
      "\u001b[0;32m<ipython-input-6-a2d95fa934c0>\u001b[0m in \u001b[0;36m<module>\u001b[0;34m()\u001b[0m\n\u001b[0;32m----> 1\u001b[0;31m \u001b[0mmymagic\u001b[0m\u001b[0;34m(\u001b[0m\u001b[0;34m'foo bar'\u001b[0m\u001b[0;34m,\u001b[0m\u001b[0;34m'zap'\u001b[0m\u001b[0;34m)\u001b[0m\u001b[0;34m\u001b[0m\u001b[0;34m\u001b[0m\u001b[0m\n\u001b[0m",
      "\u001b[0;31mTypeError\u001b[0m: mymagic() takes 1 positional argument but 2 were given"
     ]
    }
   ],
   "source": [
    "mymagic('foo bar','zap')"
   ]
  },
  {
   "cell_type": "code",
   "execution_count": 7,
   "metadata": {},
   "outputs": [
    {
     "data": {
      "text/plain": [
       "\u001b[0;31mDocstring:\u001b[0m My line magic. Sure is.\n",
       "\u001b[0;31mFile:\u001b[0m      /files/work/git/ca-steel-design/lib/<ipython-input-2-792db3d10c75>\n"
      ]
     },
     "metadata": {},
     "output_type": "display_data"
    }
   ],
   "source": [
    "%mymagic?"
   ]
  },
  {
   "cell_type": "code",
   "execution_count": 8,
   "metadata": {},
   "outputs": [
    {
     "data": {
      "text/plain": [
       "{'In': ['',\n",
       "  'from IPython.core.magic import register_line_magic\\nimport sys',\n",
       "  'zzz = 4\\n@register_line_magic\\ndef mymagic(line):\\n    \"\"\"My line magic. Sure is.\"\"\"\\n    f = sys._getframe(2)\\n    display(f.f_locals)\\n    return f\\'The line: [{line}]\\'',\n",
       "  \"get_ipython().run_line_magic('mymagic', 'foo bar 4,5,zap')\",\n",
       "  \"get_ipython().run_line_magic('display', 'foo')\",\n",
       "  \"get_ipython().run_line_magic('zibidy', '')\",\n",
       "  \"mymagic('foo bar','zap')\",\n",
       "  \"get_ipython().run_line_magic('pinfo', '%mymagic')\",\n",
       "  \"get_ipython().run_line_magic('mymagic', '')\"],\n",
       " 'Out': {3: 'The line: [foo bar 4,5,zap]'},\n",
       " '_': 'The line: [foo bar 4,5,zap]',\n",
       " '_3': 'The line: [foo bar 4,5,zap]',\n",
       " '__': '',\n",
       " '___': '',\n",
       " '__builtin__': <module 'builtins' (built-in)>,\n",
       " '__builtins__': <module 'builtins' (built-in)>,\n",
       " '__doc__': 'Automatically created module for IPython interactive environment',\n",
       " '__loader__': None,\n",
       " '__name__': '__main__',\n",
       " '__package__': None,\n",
       " '__spec__': None,\n",
       " '_dh': ['/files/work/git/ca-steel-design/lib'],\n",
       " '_i': '%mymagic?',\n",
       " '_i1': 'from IPython.core.magic import register_line_magic\\nimport sys',\n",
       " '_i2': 'zzz = 4\\n@register_line_magic\\ndef mymagic(line):\\n    \"\"\"My line magic. Sure is.\"\"\"\\n    f = sys._getframe(2)\\n    display(f.f_locals)\\n    return f\\'The line: [{line}]\\'',\n",
       " '_i3': '%mymagic foo bar 4,5,zap',\n",
       " '_i4': '%display foo',\n",
       " '_i5': '%zibidy',\n",
       " '_i6': \"mymagic('foo bar','zap')\",\n",
       " '_i7': '%mymagic?',\n",
       " '_i8': '%mymagic',\n",
       " '_ih': ['',\n",
       "  'from IPython.core.magic import register_line_magic\\nimport sys',\n",
       "  'zzz = 4\\n@register_line_magic\\ndef mymagic(line):\\n    \"\"\"My line magic. Sure is.\"\"\"\\n    f = sys._getframe(2)\\n    display(f.f_locals)\\n    return f\\'The line: [{line}]\\'',\n",
       "  \"get_ipython().run_line_magic('mymagic', 'foo bar 4,5,zap')\",\n",
       "  \"get_ipython().run_line_magic('display', 'foo')\",\n",
       "  \"get_ipython().run_line_magic('zibidy', '')\",\n",
       "  \"mymagic('foo bar','zap')\",\n",
       "  \"get_ipython().run_line_magic('pinfo', '%mymagic')\",\n",
       "  \"get_ipython().run_line_magic('mymagic', '')\"],\n",
       " '_ii': \"mymagic('foo bar','zap')\",\n",
       " '_iii': '%zibidy',\n",
       " '_oh': {3: 'The line: [foo bar 4,5,zap]'},\n",
       " 'exit': <IPython.core.autocall.ZMQExitAutocall at 0x7f054aa39cf8>,\n",
       " 'get_ipython': <bound method InteractiveShell.get_ipython of <ipykernel.zmqshell.ZMQInteractiveShell object at 0x7f054bc88668>>,\n",
       " 'mymagic': <function __main__.mymagic>,\n",
       " 'quit': <IPython.core.autocall.ZMQExitAutocall at 0x7f054aa39cf8>,\n",
       " 'register_line_magic': <function IPython.core.magic._function_magic_marker.<locals>.magic_deco>,\n",
       " 'sys': <module 'sys' (built-in)>,\n",
       " 'zzz': 4}"
      ]
     },
     "metadata": {},
     "output_type": "display_data"
    },
    {
     "data": {
      "text/plain": [
       "'The line: []'"
      ]
     },
     "execution_count": 8,
     "metadata": {},
     "output_type": "execute_result"
    }
   ],
   "source": [
    "%mymagic"
   ]
  },
  {
   "cell_type": "code",
   "execution_count": 9,
   "metadata": {},
   "outputs": [],
   "source": [
    "from utils import show"
   ]
  },
  {
   "cell_type": "code",
   "execution_count": 10,
   "metadata": {},
   "outputs": [
    {
     "name": "stdout",
     "output_type": "stream",
     "text": [
      "A   = 1235       \n",
      "Ix  = 126 * 10^6 \n",
      "Sx  = 345 * 1E3  \n",
      "A*2 = 2469       \n"
     ]
    }
   ],
   "source": [
    "Ix = 126E6\n",
    "Sx = 345E3\n",
    "A=1234.6\n",
    "%show A,*10^6,Ix,*1E3,Sx,*,A*2"
   ]
  },
  {
   "cell_type": "code",
   "execution_count": 11,
   "metadata": {},
   "outputs": [
    {
     "name": "stdout",
     "output_type": "stream",
     "text": [
      "A  = 1235     \n",
      "Ix = 1.26e+08 \n",
      "Sx = 345000   \n"
     ]
    }
   ],
   "source": [
    "show('A,Ix,Sx')"
   ]
  },
  {
   "cell_type": "code",
   "execution_count": 12,
   "metadata": {},
   "outputs": [
    {
     "name": "stdout",
     "output_type": "stream",
     "text": [
      "A        = 1235     \n",
      "Ix       = 1.26e+08 \n",
      "Sx*Ix**2 = 5.477 * 10^21 \n",
      "A        = 1235     \n",
      "Sx <= Ix = True     \n"
     ]
    }
   ],
   "source": [
    "%show A,Ix,*10^21,Sx*Ix**2,*,A, Sx <= Ix"
   ]
  },
  {
   "cell_type": "code",
   "execution_count": 13,
   "metadata": {},
   "outputs": [
    {
     "data": {
      "text/plain": [
       "\u001b[0;31mDocstring:\u001b[0m\n",
       "Display the values of all variables and expressions named in\n",
       "an arbitrary number of comma-delimited strings.  vlist elements \n",
       "beginning with a '*' give scales to apply to following values.  \n",
       "A None or bare * or *1 cancels the scales.  \n",
       "\n",
       "EG:   %show A,*1E3,Sz,Zx,*,Fy\n",
       "or: show('A,*1E3,Sz,Zx,*,Fy')\n",
       "\n",
       "When called as a normal function, keyword arguments can supply\n",
       "additional data: \n",
       "nsf=4 is number of sig figs for floats;\n",
       "object=None gives an object whose vars() are added to the\n",
       "    local variables;\n",
       "date={} gives a dictionary whose values are added to the\n",
       "    local variables.\n",
       "\u001b[0;31mFile:\u001b[0m      ~/work/git/ca-steel-design/lib/utils.py\n"
      ]
     },
     "metadata": {},
     "output_type": "display_data"
    }
   ],
   "source": [
    "%show?"
   ]
  },
  {
   "cell_type": "code",
   "execution_count": 48,
   "metadata": {},
   "outputs": [],
   "source": [
    "def sesplit(s):\n",
    "    \"\"\"Split a comma delimited string into sub-expressions.  Commas\n",
    "    are NOT delimiters when enclosed in strings or brackets.\n",
    "    sesplit('a,b(2,3),c,') => ['a', 'b(2,3)', 'c', '']\n",
    "    sesplit('a,\"(2,3)\",c')  => ['a', '\"(2,3)\"', 'c']\n",
    "    \"\"\"\n",
    "    ans = []\n",
    "    i = 0     # start of substring\n",
    "    j = 0\n",
    "    lev = 0   # bracket count\n",
    "    sd = ''   # string delimiter\n",
    "    for j  in range(len(s)):\n",
    "        if sd:                # if inside string\n",
    "            if s[j] == sd:    # see if it closes\n",
    "                sd = ''\n",
    "            continue\n",
    "        if s[j] == '\"' or s[j] == \"'\":  # are we starting a string?\n",
    "            sd = s[j]\n",
    "            continue\n",
    "        if s[j] in '([{':     # are we entering a bracket region?\n",
    "            lev += 1\n",
    "            continue\n",
    "        if s[j] in ')]}':     # are we leaving a bracket region?\n",
    "            lev -= 1\n",
    "            if lev < 0:\n",
    "                lev = 0\n",
    "            continue\n",
    "        if lev > 0:           # are we inside a bracket region?\n",
    "            continue          # if so, ignore commas\n",
    "        if s[j] == ',':       # found a comma outside? \n",
    "            ans.append(s[i:j])  # then snarf the substring before it\n",
    "            i = j+1\n",
    "    else:\n",
    "        if i <= len(s):\n",
    "            ans.append(s[i:])\n",
    "    return ans"
   ]
  },
  {
   "cell_type": "code",
   "execution_count": 49,
   "metadata": {},
   "outputs": [
    {
     "data": {
      "text/plain": [
       "['',\n",
       " '',\n",
       " '',\n",
       " 'abcd',\n",
       " '',\n",
       " '',\n",
       " '   ',\n",
       " '',\n",
       " 'foo(2,3)',\n",
       " '',\n",
       " '',\n",
       " '\"a,b\"',\n",
       " ' \"OK\" if Tr >= Tf else \"NG\" ']"
      ]
     },
     "execution_count": 49,
     "metadata": {},
     "output_type": "execute_result"
    }
   ],
   "source": [
    "sesplit(',,,abcd,,,   ,,foo(2,3),,,\"a,b\", \"OK\" if Tr >= Tf else \"NG\" ')"
   ]
  },
  {
   "cell_type": "code",
   "execution_count": 50,
   "metadata": {},
   "outputs": [
    {
     "data": {
      "text/plain": [
       "['a', '\"(2,3)\"', 'c', '']"
      ]
     },
     "execution_count": 50,
     "metadata": {},
     "output_type": "execute_result"
    }
   ],
   "source": [
    "sesplit('a,\"(2,3)\",c,')"
   ]
  },
  {
   "cell_type": "code",
   "execution_count": null,
   "metadata": {},
   "outputs": [],
   "source": []
  }
 ],
 "metadata": {
  "kernelspec": {
   "display_name": "Python 3",
   "language": "python",
   "name": "python3"
  },
  "language_info": {
   "codemirror_mode": {
    "name": "ipython",
    "version": 3
   },
   "file_extension": ".py",
   "mimetype": "text/x-python",
   "name": "python",
   "nbconvert_exporter": "python",
   "pygments_lexer": "ipython3",
   "version": "3.6.8"
  }
 },
 "nbformat": 4,
 "nbformat_minor": 2
}
