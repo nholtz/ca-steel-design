{
 "cells": [
  {
   "cell_type": "code",
   "execution_count": null,
   "metadata": {},
   "outputs": [],
   "source": [
    "from IPython.core.magic import register_line_magic\n",
    "import sys"
   ]
  },
  {
   "cell_type": "code",
   "execution_count": null,
   "metadata": {},
   "outputs": [],
   "source": [
    "zzz = 4\n",
    "@register_line_magic\n",
    "def mymagic(line):\n",
    "    \"\"\"My line magic. Sure is.\"\"\"\n",
    "    f = sys._getframe(2)\n",
    "    display(f.f_locals)\n",
    "    return f'The line: [{line}]'"
   ]
  },
  {
   "cell_type": "code",
   "execution_count": null,
   "metadata": {},
   "outputs": [],
   "source": [
    "%mymagic foo bar 4,5,zap"
   ]
  },
  {
   "cell_type": "code",
   "execution_count": null,
   "metadata": {},
   "outputs": [],
   "source": [
    "%display foo"
   ]
  },
  {
   "cell_type": "code",
   "execution_count": null,
   "metadata": {},
   "outputs": [],
   "source": [
    "%zibidy"
   ]
  },
  {
   "cell_type": "code",
   "execution_count": null,
   "metadata": {},
   "outputs": [],
   "source": [
    "mymagic('foo bar','zap')"
   ]
  },
  {
   "cell_type": "code",
   "execution_count": null,
   "metadata": {},
   "outputs": [],
   "source": [
    "%mymagic?"
   ]
  },
  {
   "cell_type": "code",
   "execution_count": null,
   "metadata": {},
   "outputs": [],
   "source": [
    "%mymagic"
   ]
  },
  {
   "cell_type": "code",
   "execution_count": 1,
   "metadata": {},
   "outputs": [],
   "source": [
    "from utils import show"
   ]
  },
  {
   "cell_type": "code",
   "execution_count": 2,
   "metadata": {},
   "outputs": [
    {
     "name": "stdout",
     "output_type": "stream",
     "text": [
      "A   = 1235       \n",
      "Ix  = 126 * 10^6 \n",
      "Sx  = 345 * 1E3  \n",
      "A*2 = 2469       \n"
     ]
    }
   ],
   "source": [
    "Ix = 126E6\n",
    "Sx = 345E3\n",
    "A=1234.6\n",
    "%show A,*10^6,Ix,*1E3,Sx,*,A*2"
   ]
  },
  {
   "cell_type": "code",
   "execution_count": 3,
   "metadata": {},
   "outputs": [
    {
     "name": "stdout",
     "output_type": "stream",
     "text": [
      "A  = 1235     \n",
      "Ix = 1.26e+08 \n",
      "Sx = 345000   \n"
     ]
    }
   ],
   "source": [
    "show('A,Ix,Sx')"
   ]
  },
  {
   "cell_type": "code",
   "execution_count": 6,
   "metadata": {},
   "outputs": [
    {
     "name": "stdout",
     "output_type": "stream",
     "text": [
      "A        = 1235     \n",
      "Ix       = 1.26e+08 \n",
      "Sx*Ix**2 = 5.477 * 10^21 \n",
      "A        = 1235     \n",
      "Sx <= Ix = True     \n"
     ]
    }
   ],
   "source": [
    "%show A,Ix,*10^21,Sx*Ix**2,*,A, Sx <= Ix"
   ]
  },
  {
   "cell_type": "code",
   "execution_count": 8,
   "metadata": {},
   "outputs": [
    {
     "data": {
      "text/plain": [
       "\u001b[0;31mDocstring:\u001b[0m\n",
       "Display the values of all variables and expressions named in\n",
       "an arbitrary number of comma-delimited strings.  vlist elements \n",
       "beginning with a '*' give scales to apply to following values.  \n",
       "A None or bare * or *1 cancels the scales.  \n",
       "\n",
       "EG:   %show A,*1E3,Sz,Zx,*,Fy\n",
       "or: show('A,*1E3,Sz,Zx,*,Fy')\n",
       "\n",
       "When called as a normal function, keyword arguments can supply\n",
       "additional data: \n",
       "depth=1 is number of levels above calling level; \n",
       "nsf=4 is number of sig figs for floats;\n",
       "object=None gives an object whose vars() are added to the\n",
       "    local variables;\n",
       "date={} gives a dictionary whose values are added to the\n",
       "    local variables.\n",
       "\u001b[0;31mFile:\u001b[0m      ~/work/git/ca-steel-design/lib/utils.py\n"
      ]
     },
     "metadata": {},
     "output_type": "display_data"
    }
   ],
   "source": [
    "%show?"
   ]
  },
  {
   "cell_type": "code",
   "execution_count": 48,
   "metadata": {},
   "outputs": [],
   "source": [
    "def sesplit(s):\n",
    "    \"\"\"Split a comma delimited string into sub-expressions.  Commas\n",
    "    are NOT delimiters when enclosed in strings or brackets.\n",
    "    sesplit('a,b(2,3),c,') => ['a', 'b(2,3)', 'c', '']\n",
    "    sesplit('a,\"(2,3)\",c')  => ['a', '\"(2,3)\"', 'c']\n",
    "    \"\"\"\n",
    "    ans = []\n",
    "    i = 0     # start of substring\n",
    "    j = 0\n",
    "    lev = 0   # bracket count\n",
    "    sd = ''   # string delimiter\n",
    "    for j  in range(len(s)):\n",
    "        if sd:                # if inside string\n",
    "            if s[j] == sd:    # see if it closes\n",
    "                sd = ''\n",
    "            continue\n",
    "        if s[j] == '\"' or s[j] == \"'\":  # are we starting a string?\n",
    "            sd = s[j]\n",
    "            continue\n",
    "        if s[j] in '([{':     # are we entering a bracket region?\n",
    "            lev += 1\n",
    "            continue\n",
    "        if s[j] in ')]}':     # are we leaving a bracket region?\n",
    "            lev -= 1\n",
    "            if lev < 0:\n",
    "                lev = 0\n",
    "            continue\n",
    "        if lev > 0:           # are we inside a bracket region?\n",
    "            continue          # if so, ignore commas\n",
    "        if s[j] == ',':       # found a comma outside? \n",
    "            ans.append(s[i:j])  # then snarf the substring before it\n",
    "            i = j+1\n",
    "    else:\n",
    "        if i <= len(s):\n",
    "            ans.append(s[i:])\n",
    "    return ans"
   ]
  },
  {
   "cell_type": "code",
   "execution_count": 49,
   "metadata": {},
   "outputs": [
    {
     "data": {
      "text/plain": [
       "['',\n",
       " '',\n",
       " '',\n",
       " 'abcd',\n",
       " '',\n",
       " '',\n",
       " '   ',\n",
       " '',\n",
       " 'foo(2,3)',\n",
       " '',\n",
       " '',\n",
       " '\"a,b\"',\n",
       " ' \"OK\" if Tr >= Tf else \"NG\" ']"
      ]
     },
     "execution_count": 49,
     "metadata": {},
     "output_type": "execute_result"
    }
   ],
   "source": [
    "sesplit(',,,abcd,,,   ,,foo(2,3),,,\"a,b\", \"OK\" if Tr >= Tf else \"NG\" ')"
   ]
  },
  {
   "cell_type": "code",
   "execution_count": 50,
   "metadata": {},
   "outputs": [
    {
     "data": {
      "text/plain": [
       "['a', '\"(2,3)\"', 'c', '']"
      ]
     },
     "execution_count": 50,
     "metadata": {},
     "output_type": "execute_result"
    }
   ],
   "source": [
    "sesplit('a,\"(2,3)\",c,')"
   ]
  },
  {
   "cell_type": "code",
   "execution_count": null,
   "metadata": {},
   "outputs": [],
   "source": []
  }
 ],
 "metadata": {
  "kernelspec": {
   "display_name": "Python 3",
   "language": "python",
   "name": "python3"
  },
  "language_info": {
   "codemirror_mode": {
    "name": "ipython",
    "version": 3
   },
   "file_extension": ".py",
   "mimetype": "text/x-python",
   "name": "python",
   "nbconvert_exporter": "python",
   "pygments_lexer": "ipython3",
   "version": "3.6.8"
  }
 },
 "nbformat": 4,
 "nbformat_minor": 2
}
