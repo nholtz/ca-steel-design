{
 "cells": [
  {
   "cell_type": "code",
   "execution_count": 1,
   "metadata": {},
   "outputs": [],
   "source": [
    "from utils import show"
   ]
  },
  {
   "cell_type": "markdown",
   "metadata": {},
   "source": [
    "Note written 2020-02-14: Happy VD!  Current way of creating parts with inheritable values\n",
    "is very unpythonic.\n",
    "\n",
    "after \n",
    "```python\n",
    "@makePart\n",
    "class Bolts:\n",
    "    Fu = 825\n",
    "```\n",
    "'Bolts' isn't a class anymore but is an instance of class Parts.  That doesn't seen right.\n",
    " Even though class objects are instances of class 'type'.\n",
    " \n",
    "Here are experiments on how to retain the classness."
   ]
  },
  {
   "cell_type": "code",
   "execution_count": 2,
   "metadata": {},
   "outputs": [
    {
     "data": {
      "text/plain": [
       "True"
      ]
     },
     "execution_count": 2,
     "metadata": {},
     "output_type": "execute_result"
    }
   ],
   "source": [
    "isinstance(object,type)"
   ]
  },
  {
   "cell_type": "code",
   "execution_count": 3,
   "metadata": {},
   "outputs": [],
   "source": [
    "from newparts import Part, makePart"
   ]
  },
  {
   "cell_type": "code",
   "execution_count": 4,
   "metadata": {},
   "outputs": [],
   "source": [
    "@makePart \n",
    "class Foo:\n",
    "    \"this is a Foo\"\n",
    "    A = 3\n",
    "    B = 4\n",
    "    C = 5\n",
    "    D = 6\n",
    "    E = 7"
   ]
  },
  {
   "cell_type": "code",
   "execution_count": 5,
   "metadata": {},
   "outputs": [],
   "source": [
    "@makePart\n",
    "class Bar(Foo):\n",
    "    A = 10\n",
    "    C = 20\n",
    "    F = 30"
   ]
  },
  {
   "cell_type": "code",
   "execution_count": 6,
   "metadata": {},
   "outputs": [
    {
     "data": {
      "text/plain": [
       "[__main__.Bar, newparts.Foo, newparts.Part, object]"
      ]
     },
     "execution_count": 6,
     "metadata": {},
     "output_type": "execute_result"
    }
   ],
   "source": [
    "Bar.mro()"
   ]
  },
  {
   "cell_type": "code",
   "execution_count": 7,
   "metadata": {},
   "outputs": [
    {
     "name": "stdout",
     "output_type": "stream",
     "text": [
      "Foo.A = 3  \n",
      "Foo.B = 4  \n",
      "Foo.C = 5  \n",
      "Bar.A = 10 \n",
      "Bar.B = 4  \n",
      "Bar.C = 20 \n"
     ]
    }
   ],
   "source": [
    "%show Foo.A, Foo.B, Foo.C, Bar.A, Bar.B, Bar.C"
   ]
  },
  {
   "cell_type": "code",
   "execution_count": 8,
   "metadata": {},
   "outputs": [
    {
     "name": "stdout",
     "output_type": "stream",
     "text": [
      "A = 3 \n",
      "B = 4 \n",
      "C = 5 \n",
      "D = 6 \n",
      "E = 7 \n"
     ]
    }
   ],
   "source": [
    "Foo.show()"
   ]
  },
  {
   "cell_type": "code",
   "execution_count": 9,
   "metadata": {},
   "outputs": [
    {
     "name": "stdout",
     "output_type": "stream",
     "text": [
      "A = 10 \n",
      "B = 4  \n",
      "C = 20 \n",
      "D = 6  \n",
      "E = 7  \n",
      "F = 30 \n"
     ]
    }
   ],
   "source": [
    "Bar.show()"
   ]
  },
  {
   "cell_type": "code",
   "execution_count": 10,
   "metadata": {},
   "outputs": [
    {
     "data": {
      "text/plain": [
       "True"
      ]
     },
     "execution_count": 10,
     "metadata": {},
     "output_type": "execute_result"
    }
   ],
   "source": [
    "Part in Bar.mro()"
   ]
  },
  {
   "cell_type": "code",
   "execution_count": 24,
   "metadata": {},
   "outputs": [],
   "source": [
    "@makePart\n",
    "class Zap(Foo['B,D,XXX=B+D']):\n",
    "    A = 0"
   ]
  },
  {
   "cell_type": "code",
   "execution_count": 26,
   "metadata": {},
   "outputs": [
    {
     "name": "stdout",
     "output_type": "stream",
     "text": [
      "Zap.A   = 0   \n",
      "Zap.B   = 4   \n",
      "Zap.D   = 6   \n",
      "Zap.E   = ??? \n",
      "Zap.XXX = 10  \n"
     ]
    }
   ],
   "source": [
    "%show Zap.A, Zap.B, Zap.D, Zap.E, Zap.XXX"
   ]
  },
  {
   "cell_type": "code",
   "execution_count": 27,
   "metadata": {},
   "outputs": [
    {
     "name": "stdout",
     "output_type": "stream",
     "text": [
      "A   = 0  \n",
      "B   = 4  \n",
      "D   = 6  \n",
      "XXX = 10 \n"
     ]
    }
   ],
   "source": [
    "Zap.show()"
   ]
  },
  {
   "cell_type": "code",
   "execution_count": 28,
   "metadata": {},
   "outputs": [
    {
     "data": {
      "text/plain": [
       "{'A': 0, 'B': 4, 'D': 6, 'XXX': 10}"
      ]
     },
     "execution_count": 28,
     "metadata": {},
     "output_type": "execute_result"
    }
   ],
   "source": [
    "Zap.ns()"
   ]
  },
  {
   "cell_type": "code",
   "execution_count": 29,
   "metadata": {},
   "outputs": [
    {
     "data": {
      "text/plain": [
       "[__main__.Zap, newparts.Foo_Partial, newparts.Part, object]"
      ]
     },
     "execution_count": 29,
     "metadata": {},
     "output_type": "execute_result"
    }
   ],
   "source": [
    "Zap.mro()"
   ]
  },
  {
   "cell_type": "code",
   "execution_count": 30,
   "metadata": {},
   "outputs": [],
   "source": [
    "class X:\n",
    "    XX = 4"
   ]
  },
  {
   "cell_type": "code",
   "execution_count": 31,
   "metadata": {},
   "outputs": [
    {
     "data": {
      "text/plain": [
       "[__main__.X, object]"
      ]
     },
     "execution_count": 31,
     "metadata": {},
     "output_type": "execute_result"
    }
   ],
   "source": [
    "X.mro()"
   ]
  },
  {
   "cell_type": "code",
   "execution_count": 32,
   "metadata": {},
   "outputs": [],
   "source": [
    "@makePart\n",
    "class Y(X):\n",
    "    YY = 5"
   ]
  },
  {
   "cell_type": "code",
   "execution_count": 33,
   "metadata": {},
   "outputs": [
    {
     "data": {
      "text/plain": [
       "[newparts.Y, __main__.X, newparts.Part, object]"
      ]
     },
     "execution_count": 33,
     "metadata": {},
     "output_type": "execute_result"
    }
   ],
   "source": [
    "Y.mro()"
   ]
  },
  {
   "cell_type": "code",
   "execution_count": 34,
   "metadata": {},
   "outputs": [
    {
     "data": {
      "text/plain": [
       "(__main__.X, newparts.Part)"
      ]
     },
     "execution_count": 34,
     "metadata": {},
     "output_type": "execute_result"
    }
   ],
   "source": [
    "Y.__bases__"
   ]
  },
  {
   "cell_type": "code",
   "execution_count": 35,
   "metadata": {},
   "outputs": [
    {
     "name": "stdout",
     "output_type": "stream",
     "text": [
      "Push: dict_keys(['A', 'B', 'D', '__doc__', '__module__', '_PartMeta__saved']) ['A', 'B', 'D', '__module__', '_PartMeta__saved'] {'__doc__': 'Automatically created module for IPython interactive environment'}\n",
      "A   = 0   \n",
      "B   = 4   \n",
      "D   = 6   \n",
      "XXX = ??? \n",
      "Push: dict_keys(['A', '__doc__', '__module__', '_PartMeta__saved']) [] {'A': 0, '__doc__': None, '__module__': 'newparts', '_PartMeta__saved': [(['A', 'B', 'D', '__module__', '_PartMeta__saved'], {'__doc__': 'Automatically created module for IPython interactive environment'})]}\n",
      "A = 3  \n",
      "B = 10 \n",
      "D = 6  \n",
      "Pop: [] {'A': 0, '__doc__': None, '__module__': 'newparts', '_PartMeta__saved': [(['A', 'B', 'D', '__module__', '_PartMeta__saved'], {'__doc__': 'Automatically created module for IPython interactive environment'})]}\n",
      "Pop: ['A', 'B', 'D', '__module__', '_PartMeta__saved'] {'__doc__': 'Automatically created module for IPython interactive environment'}\n",
      "A = ??? \n",
      "B = ??? \n",
      "D = ??? \n"
     ]
    }
   ],
   "source": [
    "with Zap['A,B,D']:\n",
    "    show('A,B,D,XXX')\n",
    "    B = 10\n",
    "    with Foo['A']:\n",
    "        show('A,B,D')\n",
    "%show A,B,D"
   ]
  },
  {
   "cell_type": "code",
   "execution_count": 39,
   "metadata": {},
   "outputs": [
    {
     "name": "stdout",
     "output_type": "stream",
     "text": [
      "A = 1 \n",
      "B = 2 \n",
      "C = 3 \n",
      "D = 5 \n"
     ]
    }
   ],
   "source": [
    "@makePart\n",
    "class QQQ:\n",
    "    A,B,C = 1,2,3\n",
    "    D = B+C\n",
    "QQQ.show()"
   ]
  },
  {
   "cell_type": "code",
   "execution_count": 40,
   "metadata": {},
   "outputs": [
    {
     "ename": "TypeError",
     "evalue": "It is not possible to creat an instance of this class: <class '__main__.Zap'>",
     "output_type": "error",
     "traceback": [
      "\u001b[0;31m---------------------------------------------------------------------------\u001b[0m",
      "\u001b[0;31mTypeError\u001b[0m                                 Traceback (most recent call last)",
      "\u001b[0;32m<ipython-input-40-c19ce8e12eaf>\u001b[0m in \u001b[0;36m<module>\u001b[0;34m\u001b[0m\n\u001b[0;32m----> 1\u001b[0;31m \u001b[0mz\u001b[0m \u001b[0;34m=\u001b[0m \u001b[0mZap\u001b[0m\u001b[0;34m(\u001b[0m\u001b[0;34m)\u001b[0m\u001b[0;34m\u001b[0m\u001b[0;34m\u001b[0m\u001b[0m\n\u001b[0m",
      "\u001b[0;32m/files/work/git/ca-steel-design/lib/newparts.py\u001b[0m in \u001b[0;36m__call__\u001b[0;34m(cls, *args, **kwargs)\u001b[0m\n\u001b[1;32m      6\u001b[0m \u001b[0;34m\u001b[0m\u001b[0m\n\u001b[1;32m      7\u001b[0m     \u001b[0;32mdef\u001b[0m \u001b[0m__call__\u001b[0m\u001b[0;34m(\u001b[0m\u001b[0mcls\u001b[0m\u001b[0;34m,\u001b[0m\u001b[0;34m*\u001b[0m\u001b[0margs\u001b[0m\u001b[0;34m,\u001b[0m\u001b[0;34m**\u001b[0m\u001b[0mkwargs\u001b[0m\u001b[0;34m)\u001b[0m\u001b[0;34m:\u001b[0m\u001b[0;34m\u001b[0m\u001b[0;34m\u001b[0m\u001b[0m\n\u001b[0;32m----> 8\u001b[0;31m         \u001b[0;32mraise\u001b[0m \u001b[0mTypeError\u001b[0m\u001b[0;34m(\u001b[0m\u001b[0;34m\"It is not possible to creat an instance of this class: \"\u001b[0m\u001b[0;34m+\u001b[0m\u001b[0mrepr\u001b[0m\u001b[0;34m(\u001b[0m\u001b[0mcls\u001b[0m\u001b[0;34m)\u001b[0m\u001b[0;34m)\u001b[0m\u001b[0;34m\u001b[0m\u001b[0;34m\u001b[0m\u001b[0m\n\u001b[0m\u001b[1;32m      9\u001b[0m \u001b[0;34m\u001b[0m\u001b[0m\n\u001b[1;32m     10\u001b[0m     \u001b[0;32mdef\u001b[0m \u001b[0m__getitem__\u001b[0m\u001b[0;34m(\u001b[0m\u001b[0mcls\u001b[0m\u001b[0;34m,\u001b[0m\u001b[0;34m*\u001b[0m\u001b[0mkeys\u001b[0m\u001b[0;34m)\u001b[0m\u001b[0;34m:\u001b[0m\u001b[0;34m\u001b[0m\u001b[0;34m\u001b[0m\u001b[0m\n",
      "\u001b[0;31mTypeError\u001b[0m: It is not possible to creat an instance of this class: <class '__main__.Zap'>"
     ]
    }
   ],
   "source": [
    "z = Zap()"
   ]
  },
  {
   "cell_type": "code",
   "execution_count": 42,
   "metadata": {},
   "outputs": [
    {
     "name": "stdout",
     "output_type": "stream",
     "text": [
      "Push: dict_keys(['A', 'B', 'C', 'D', '__doc__', '__module__', '_PartMeta__saved']) ['A', 'B', 'C', 'D', '__module__', '_PartMeta__saved'] {'__doc__': 'Automatically created module for IPython interactive environment'}\n",
      "A = 1 \n",
      "B = 2 \n",
      "C = 3 \n",
      "D = 5 \n",
      "Pop: ['A', 'B', 'C', 'D', '__module__', '_PartMeta__saved'] {'__doc__': 'Automatically created module for IPython interactive environment'}\n"
     ]
    }
   ],
   "source": [
    "with QQQ:\n",
    "    show('A,B,C,D')"
   ]
  },
  {
   "cell_type": "code",
   "execution_count": 43,
   "metadata": {},
   "outputs": [],
   "source": [
    "def mpart(cls):\n",
    "    dct = cls.__dict__\n",
    "    bas = cls.__bases__\n",
    "    nam = cls.__name__\n",
    "    return (nam,bas,dct)"
   ]
  },
  {
   "cell_type": "code",
   "execution_count": 47,
   "metadata": {},
   "outputs": [],
   "source": [
    "@mpart\n",
    "class Fred(Foo):\n",
    "    ZZ = 10"
   ]
  },
  {
   "cell_type": "code",
   "execution_count": 48,
   "metadata": {},
   "outputs": [
    {
     "data": {
      "text/plain": [
       "('Fred',\n",
       " (newparts.Foo,),\n",
       " mappingproxy({'__module__': '__main__', 'ZZ': 10, '__doc__': None}))"
      ]
     },
     "execution_count": 48,
     "metadata": {},
     "output_type": "execute_result"
    }
   ],
   "source": [
    "Fred"
   ]
  },
  {
   "cell_type": "code",
   "execution_count": null,
   "metadata": {},
   "outputs": [],
   "source": []
  }
 ],
 "metadata": {
  "kernelspec": {
   "display_name": "Python 3",
   "language": "python",
   "name": "python3"
  },
  "language_info": {
   "codemirror_mode": {
    "name": "ipython",
    "version": 3
   },
   "file_extension": ".py",
   "mimetype": "text/x-python",
   "name": "python",
   "nbconvert_exporter": "python",
   "pygments_lexer": "ipython3",
   "version": "3.6.8"
  }
 },
 "nbformat": 4,
 "nbformat_minor": 2
}
