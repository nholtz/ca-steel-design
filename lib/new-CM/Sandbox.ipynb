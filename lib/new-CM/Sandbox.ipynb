{
 "cells": [
  {
   "cell_type": "code",
   "execution_count": 1,
   "metadata": {},
   "outputs": [],
   "source": [
    "from Designer import DesignNotes, SST, Part, show, extract, se_split\n",
    "import math\n",
    "sind = lambda deg: math.sin(math.radians(deg))  # return sin of angle expressed in degrees\n",
    "cosd = lambda deg: math.cos(math.radians(deg))  # return cos of angle expressed in degrees"
   ]
  },
  {
   "cell_type": "code",
   "execution_count": 2,
   "metadata": {},
   "outputs": [],
   "source": [
    "import pint                  # setup to use the module for computing with units\n",
    "ureg = pint.UnitRegistry()\n",
    "mm = ureg['mm']              # define symbols for the units used below\n",
    "inch = ureg['inch']\n",
    "kN = ureg['kN']\n",
    "MPa = ureg['MPa']\n",
    "ureg.default_format = '~P'"
   ]
  },
  {
   "cell_type": "code",
   "execution_count": 3,
   "metadata": {},
   "outputs": [],
   "source": [
    "class Bolts(Part):\n",
    "    'Bolts'   # bolt group is the same on the tongue plate and on the gusset plate.\n",
    "    grade = 'ASTM A325'\n",
    "    size = '3/4\"'\n",
    "    Fu = 825*MPa\n",
    "    d = (3/4*inch).to(mm)\n",
    "    hole_type = 'punched'\n",
    "    hd = 22*mm            # hole diameter\n",
    "    ha = hd + 2*mm        # hole allowance\n",
    "    threads_intercepted = True\n",
    "    nlines = 2            # a line is perpendicular to load\n",
    "    nperline = 3          # number of bolts in each line\n",
    "    g = 75*mm             # gauge (perpendicular to load)\n",
    "    s = 75*mm             # spacing (parallel to load)\n",
    "\n",
    "class Welds(Part):\n",
    "    'Welds'\n",
    "    grade = 'E49xx'\n",
    "    Xu = 490*MPa\n",
    "    matching = True\n",
    "\n",
    "class Plates(Part):\n",
    "    'Plates'\n",
    "    grade = 'CSA G40.21 350W'\n",
    "    Fy = 350*MPa\n",
    "    Fu = 450*MPa\n",
    "\n",
    "class HSS(Part):\n",
    "    'HSS Column'\n",
    "    grade = 'CSA G40.21 350W'\n",
    "    Fy = 350*MPa\n",
    "    Fu = 450*MPa\n",
    "    size = 'HS127x127x13'\n",
    "    D,T,A = SST.section(size,'D,T,A')\n",
    "    D = D*mm\n",
    "    T = T*mm\n",
    "    A = A*mm*mm    \n",
    "\n",
    "class CoverPlate(Plates):\n",
    "    'Cover Plate'\n",
    "    T = 10*mm\n",
    "    W = 60*mm\n",
    "    Lw = 90*mm      # length of weld from net section to end of HSS\n",
    "    D = 6*mm        # size of weld from on HSS.\n",
    "   \n",
    "class TonguePlate(Plates):\n",
    "    'Tongue Plate'\n",
    "    T = 20*mm\n",
    "    W = 280*mm\n",
    "    L = 260*mm\n",
    "    e = 40*mm\n",
    "    D = 8*mm       # weld size\n",
    "    c = 45*mm      # dist end of weld to 1st bolt line  \n",
    "    Lw = L - (c + (Bolts.nlines-1)*Bolts.s + e)\n",
    "    Dh = SST.section(HSS.size,'D')*mm\n",
    "    ns = 10\n",
    "\n",
    "class GussetPlate(Plates): \n",
    "    'Gusset Plate'\n",
    "    T,W = TonguePlate.values('T,W')\n",
    "    W2 = 110*mm\n",
    "    e = 40*mm    # end distance\n",
    "    D = 8*mm     # plate to column weld size\n",
    "    theta = 45. "
   ]
  },
  {
   "cell_type": "code",
   "execution_count": 4,
   "metadata": {},
   "outputs": [
    {
     "data": {
      "text/plain": [
       "Designer.TonguePlate_Extract"
      ]
     },
     "execution_count": 4,
     "metadata": {},
     "output_type": "execute_result"
    }
   ],
   "source": [
    "c = extract('T,W,L=T*100',TonguePlate,CoverPlate,Plates)\n",
    "c"
   ]
  },
  {
   "cell_type": "code",
   "execution_count": 5,
   "metadata": {},
   "outputs": [
    {
     "data": {
      "text/plain": [
       "{T: 20 <Unit('millimeter')>,\n",
       " W: 280 <Unit('millimeter')>,\n",
       " L: 2000 <Unit('millimeter')>}"
      ]
     },
     "execution_count": 5,
     "metadata": {},
     "output_type": "execute_result"
    }
   ],
   "source": [
    "c.__ns__()"
   ]
  },
  {
   "cell_type": "code",
   "execution_count": 6,
   "metadata": {},
   "outputs": [
    {
     "data": {
      "text/plain": [
       "[(T, 20 <Unit('millimeter')>),\n",
       " (L, 260 <Unit('millimeter')>),\n",
       " (Fy, 350 <Unit('megapascal')>),\n",
       " (Dh, 127.0 <Unit('millimeter')>)]"
      ]
     },
     "execution_count": 6,
     "metadata": {},
     "output_type": "execute_result"
    }
   ],
   "source": [
    "TonguePlate.items('T,L,Fy,Dh')"
   ]
  },
  {
   "cell_type": "code",
   "execution_count": 7,
   "metadata": {},
   "outputs": [
    {
     "name": "stdout",
     "output_type": "stream",
     "text": [
      "L = 2000 mm\n",
      "T = 20   mm\n",
      "W = 280  mm\n"
     ]
    }
   ],
   "source": [
    "c.show()"
   ]
  },
  {
   "cell_type": "code",
   "execution_count": 8,
   "metadata": {},
   "outputs": [
    {
     "name": "stdout",
     "output_type": "stream",
     "text": [
      "D     = 8   mm\n",
      "e     = 40  mm\n",
      "Fu    = 450 MPa\n",
      "Fy    = 350 MPa\n",
      "grade = CSA G40.21 350W \n",
      "T     = 20  mm\n",
      "theta = 45  \n",
      "W     = 280 mm\n",
      "W2    = 110 mm\n"
     ]
    }
   ],
   "source": [
    "GussetPlate.show()"
   ]
  },
  {
   "cell_type": "code",
   "execution_count": 9,
   "metadata": {},
   "outputs": [
    {
     "data": {
      "text/html": [
       "40 mm"
      ],
      "text/latex": [
       "$40\\ \\mathrm{mm}$"
      ],
      "text/plain": [
       "40 <Unit('millimeter')>"
      ]
     },
     "execution_count": 9,
     "metadata": {},
     "output_type": "execute_result"
    }
   ],
   "source": [
    "d = GussetPlate.values('e')\n",
    "d"
   ]
  },
  {
   "cell_type": "code",
   "execution_count": 10,
   "metadata": {},
   "outputs": [],
   "source": [
    "def items(names,*objs,**kwds):\n",
    "    ns = {}\n",
    "    for o in reversed(objs):\n",
    "        if isinstance(o,type):\n",
    "            ns.update(o.__ns__())\n",
    "            continue\n",
    "        if type(o) in (list,tuple):\n",
    "            if len(o) > 0:\n",
    "                if type(o[0]) is tuple and len(o[0]) == 2:\n",
    "                    ns.update(dict(o))\n",
    "                else:\n",
    "                    raise ValueError('Invalid object: {}'.format(o))\n",
    "            continue\n",
    "        for k,v in vars(o).items():\n",
    "            if not k.startswith('__'):\n",
    "                ns[k] = v\n",
    "    ns.update(kwds)\n",
    "    \n",
    "    d = {}\n",
    "    for expr in se_split(names):\n",
    "        if '=' in expr:\n",
    "            target,rhs = [x.strip() for x in expr.split('=',1)]\n",
    "            if rhs in ns:\n",
    "                value = ns[rhs]\n",
    "            else:\n",
    "                if ns:\n",
    "                    value = eval(rhs,ns)\n",
    "                else:\n",
    "                    raise ValueError(\"Illegal name: {}={}\".format(target,rhs))\n",
    "        else:\n",
    "            target = expr\n",
    "            value = ns[expr] if ns else None\n",
    "        if target in d:\n",
    "            raise DesignerError('''Name '{}' has been used more than once.'''.format(target))\n",
    "        d[target] = value\n",
    "\n",
    "    return list(d.items())\n",
    "\n",
    "def values(names,*objs,**kwds):\n",
    "    return [v for k,v in items(names,*objs,**kwds)]"
   ]
  },
  {
   "cell_type": "code",
   "execution_count": 11,
   "metadata": {},
   "outputs": [
    {
     "data": {
      "text/plain": [
       "<sst.Properties at 0x7fd02a7f85d0>"
      ]
     },
     "execution_count": 11,
     "metadata": {},
     "output_type": "execute_result"
    }
   ],
   "source": [
    "size = 'HS127x127x13'\n",
    "s = SST.section(size)\n",
    "s"
   ]
  },
  {
   "cell_type": "code",
   "execution_count": 12,
   "metadata": {},
   "outputs": [
    {
     "data": {
      "text/plain": [
       "[(B, 127.0 <Unit('millimeter')>),\n",
       " (T, 20 <Unit('millimeter')>),\n",
       " (A, 5390.0 <Unit('millimeter ** 2')>),\n",
       " (s, 0.49999999999999994)]"
      ]
     },
     "execution_count": 12,
     "metadata": {},
     "output_type": "execute_result"
    }
   ],
   "source": [
    "items('B=B*mm,T,A=A*mm*mm,s=sin(30)',GussetPlate,s,[('a',1),('b',2)],c=3,a=10,sin=sind,mm=mm)"
   ]
  },
  {
   "cell_type": "code",
   "execution_count": 13,
   "metadata": {},
   "outputs": [
    {
     "data": {
      "text/plain": [
       "[(x, None), (y, None), (z, None)]"
      ]
     },
     "execution_count": 13,
     "metadata": {},
     "output_type": "execute_result"
    }
   ],
   "source": [
    "items('x,y,z')"
   ]
  },
  {
   "cell_type": "code",
   "execution_count": 14,
   "metadata": {},
   "outputs": [],
   "source": [
    "class DesignNotes_CM(object):\n",
    "\n",
    "    \"\"\"DesignNotes Context Manager.\"\"\"\n",
    "\n",
    "    def __init__(self, notes, *objattrs, label=None, result_var=None,\n",
    "                 local='', locals='', globals='', trace=None, record=True):\n",
    "        self.notes = notes\n",
    "        self.objattrs = objattrs\n",
    "        self.label = label\n",
    "        if result_var is None:\n",
    "            result_var = notes.var\n",
    "        self.result_var = result_var\n",
    "        self.local = local + locals   # get rid of local some day, locals is preferred because of globals\n",
    "        self.globals = globals\n",
    "        if trace is None:\n",
    "            trace = notes.trace\n",
    "        self.trace = trace\n",
    "        self.record = record\n",
    "        self._setup()\n",
    "\n",
    "    def _setup(self):\n",
    "        \"\"\"Add all attributes/values to the set of global variables.\n",
    "        Save enough state so that they can be restored when the context\n",
    "        manager exits.\"\"\"\n",
    "        gns = get_ipython().user_ns  # get the ns for the user\n",
    "        d = {}\n",
    "        gns = get_ipython().user_ns\n",
    "        for ob in self.objattrs:\n",
    "            if ispartial(ob):\n",
    "                for target,value in ob.ns().items():\n",
    "                    if target in d:\n",
    "                        raise DesignerError('''Name '{}' has been used more than once.'''.format(target))\n",
    "                    d[target] = value\n",
    "                continue\n",
    "            else:\n",
    "                obj,names = ob\n",
    "            objns = obj.ns()\n",
    "            for expr in se_split(names):\n",
    "                if '=' in expr:\n",
    "                    target,rhs = [x.strip() for x in expr.split('=',1)]\n",
    "                    if rhs in objns:\n",
    "                        value = objns[rhs]\n",
    "                    else:\n",
    "                        value = eval(rhs,gns,objns)\n",
    "                else:\n",
    "                    target = expr\n",
    "                    value = objns[expr]\n",
    "                if target in d:\n",
    "                    raise DesignerError('''Name '{}' has been used more than once.'''.format(target))\n",
    "                d[target] = value\n",
    "        self.new_values = d\n",
    "        self.local_vars = [y for y in [x.strip() for x in self.local.split(',')] if y] + [self.result_var]\n",
    "        self.global_vars = [y for y in [x.strip() for x in self.globals.split(',')] if y]\n",
    "        \n",
    "        self.changed_values = {}\n",
    "        self.added_vars = []\n",
    "        \n",
    "    def __enter__(self):\n",
    "        gns = get_ipython().user_ns\n",
    "        for k,v in self.new_values.items():\n",
    "            if k in gns:\n",
    "                self.changed_values[k] = gns[k]\n",
    "            else:\n",
    "                self.added_vars.append(k)\n",
    "            gns[k] = v\n",
    "            \n",
    "        for k in self.local_vars:\n",
    "            if k in self.changed_values or k in self.added_vars:\n",
    "                raise DesignerError('''Name '{}' has been used more than once.'''.format(k))\n",
    "            if k in gns:\n",
    "                self.changed_values[k] = gns[k]\n",
    "                del gns[k]\n",
    "            else:\n",
    "                self.added_vars.append(k)\n",
    "        return self\n",
    "    \n",
    "    enter = __enter__\n",
    "    \n",
    "    def __exit__(self,exc_type,exc_value,exc_tb):\n",
    "        \"\"\"When the context exits, restore the global values to what they\n",
    "        were before entering.\"\"\"\n",
    "        gns = get_ipython().user_ns  # get the ns for the user\n",
    "        \n",
    "        # capture current values of all local variables\n",
    "        dct = {}\n",
    "        for k,v in self.changed_values.items():\n",
    "            if k in gns:\n",
    "                dct[k] = gns[k]\n",
    "        for k in self.added_vars + self.global_vars:\n",
    "            if k in gns:\n",
    "                dct[k] = gns[k]\n",
    "        self.ending_values = dct\n",
    "        \n",
    "        # record the result produced\n",
    "        if self.record and self.label and exc_type is None:\n",
    "            rkey = self.result_var\n",
    "            if rkey in gns:\n",
    "                rval = gns[rkey]\n",
    "            else:\n",
    "                raise DesignerError('''Result variable '{}' is not defined.'''.format(rkey))\n",
    "            self.notes.record(rval,self.label,values=self.ending_values)\n",
    "        \n",
    "        # now change the user ns back to what it was before __enter__\n",
    "        for k,v in self.changed_values.items():\n",
    "            gns[k] = v               # restore old values\n",
    "        for k in self.added_vars:\n",
    "            if k in gns:\n",
    "                del gns[k]           # or delete them if they were newly created\n",
    "        self.changed_values = {}\n",
    "        self.added_vars = []\n",
    "        return False              # to re-raise exceptions\n",
    "    \n",
    "    exit = __exit__\n"
   ]
  },
  {
   "cell_type": "code",
   "execution_count": 57,
   "metadata": {},
   "outputs": [],
   "source": [
    "class DesignNotes(object):\n",
    "    \n",
    "    def __init__(self,var,trace=False,units=None,selector=min,title='',nsigfigs=3):\n",
    "        self.trace = trace\n",
    "        self.var = var\n",
    "        self.units = units\n",
    "        self.selector = selector\n",
    "        self.title = title\n",
    "        self.nsigfigs = nsigfigs\n",
    "        self._notes = []\n",
    "        self._checks = []\n",
    "        self._record = []\n",
    "        self._execution_count = None\n",
    "        \n",
    "    def makeVARS(self,trace=None):\n",
    "        if trace is None:\n",
    "            trace = self.trace\n",
    "        def _makeVARS(varslist,*objlist,**kwds):\n",
    "            nonlocal trace\n",
    "            nonlocal self\n",
    "            return CM1(self,items(varslist,*objlist,**kwds),trace=trace)\n",
    "        return _makeVARS\n",
    "            \n",
    "    def makeREC(self,trace=None):\n",
    "        if trace is None:\n",
    "            trace = self.trace\n",
    "        def _makeVARS(var,title,**kwds):\n",
    "            nonlocal trace\n",
    "            nonlocal self\n",
    "            return CM1(self,[(var,None)],trace=trace,title=title)\n",
    "        return _makeVARS\n",
    " "
   ]
  },
  {
   "cell_type": "code",
   "execution_count": 63,
   "metadata": {},
   "outputs": [],
   "source": [
    "class CM1(object):\n",
    "    \n",
    "    def __init__(self,notes,itemlist,trace=False,title=''):\n",
    "        self.notes = notes\n",
    "        self.itemlist = itemlist\n",
    "        self.trace = trace\n",
    "        self.title = title\n",
    "        self.changed_vars = {}\n",
    "        self.added_vars = []\n",
    "        self.gns = get_ipython().user_ns\n",
    "    \n",
    "    def __enter__(self):\n",
    "        for k,v in self.itemlist:\n",
    "            if k in self.gns:\n",
    "                self.changed_vars[k] = self.gns[k]\n",
    "            else:\n",
    "                self.added_vars.append(k)\n",
    "            self.gns[k] = v\n",
    "        \n",
    "    def __exit__(self,*args):\n",
    "        if self.trace:\n",
    "            values = {}\n",
    "            for k,v in self.itemlist:\n",
    "                values[k] = self.gns[k]\n",
    "            if values:\n",
    "                show(','.join([k for k,v in values.items()]),data=values,minwidth=5)\n",
    "        for k in self.added_vars:\n",
    "            if k in self.gns:\n",
    "                del self.gns[k]\n",
    "        self.added_vars = []\n",
    "        for k,v in self.changed_vars.items():\n",
    "            self.gns[k] = v\n",
    "        self.changed_vars = {}\n",
    "        "
   ]
  },
  {
   "cell_type": "code",
   "execution_count": 64,
   "metadata": {},
   "outputs": [],
   "source": [
    "dn = DesignNotes('xx',trace=True)\n",
    "REC = dn.makeREC()\n",
    "VARS = dn.makeVARS()"
   ]
  },
  {
   "cell_type": "code",
   "execution_count": 66,
   "metadata": {},
   "outputs": [
    {
     "name": "stdout",
     "output_type": "stream",
     "text": [
      "L     = 506  mm\n",
      "L1    = 308  mm\n",
      "Mw    = 1    \n",
      "Aw    = 5724 mm²\n",
      "Xu    = 490 MPa\n",
      "W     = 280 mm\n",
      "W2    = 110 mm\n",
      "theta = 45  \n",
      "D     = 8   mm\n",
      "Vr    = 2008 kN\n"
     ]
    }
   ],
   "source": [
    "phiw = 0.67\n",
    "with REC('Vr','Gusset to HSS Weld'), \\\n",
    "     VARS('W,W2,theta,D',GussetPlate), \\\n",
    "     VARS('Xu',Welds), \\\n",
    "     VARS('L,L1,Mw,Aw'):\n",
    "    L1 = W2+W*cosd(theta)\n",
    "    L = (L1/sind(theta))*cosd(theta) + W*sind(theta)\n",
    "\n",
    "    Mw = 1.0                  \n",
    "    Aw = 2*L*.707*D\n",
    "    Vr = 0.67*phiw*Aw*Xu*(1+sind(theta)**1.5)*Mw     # S16-14: 13.13.2.2\n",
    "    Vr = Vr.to(kN)"
   ]
  },
  {
   "cell_type": "code",
   "execution_count": null,
   "metadata": {},
   "outputs": [],
   "source": [
    "L"
   ]
  },
  {
   "cell_type": "code",
   "execution_count": null,
   "metadata": {},
   "outputs": [],
   "source": []
  }
 ],
 "metadata": {
  "kernelspec": {
   "display_name": "Python 3",
   "language": "python",
   "name": "python3"
  },
  "language_info": {
   "codemirror_mode": {
    "name": "ipython",
    "version": 3
   },
   "file_extension": ".py",
   "mimetype": "text/x-python",
   "name": "python",
   "nbconvert_exporter": "python",
   "pygments_lexer": "ipython3",
   "version": "3.7.5"
  }
 },
 "nbformat": 4,
 "nbformat_minor": 4
}
