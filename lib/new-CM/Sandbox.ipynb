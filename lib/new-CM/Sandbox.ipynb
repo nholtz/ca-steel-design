{
 "cells": [
  {
   "cell_type": "code",
   "execution_count": 1,
   "metadata": {},
   "outputs": [],
   "source": [
    "from Designer import DesignNotes, SST, Part, show, extract\n",
    "import math\n",
    "sind = lambda deg: math.sin(math.radians(deg))  # return sin of angle expressed in degrees\n",
    "cosd = lambda deg: math.cos(math.radians(deg))  # return cos of angle expressed in degrees"
   ]
  },
  {
   "cell_type": "code",
   "execution_count": 2,
   "metadata": {},
   "outputs": [],
   "source": [
    "import pint                  # setup to use the module for computing with units\n",
    "ureg = pint.UnitRegistry()\n",
    "mm = ureg['mm']              # define symbols for the units used below\n",
    "inch = ureg['inch']\n",
    "kN = ureg['kN']\n",
    "MPa = ureg['MPa']\n",
    "ureg.default_format = '~P'"
   ]
  },
  {
   "cell_type": "code",
   "execution_count": 3,
   "metadata": {},
   "outputs": [],
   "source": [
    "class Bolts(Part):\n",
    "    'Bolts'   # bolt group is the same on the tongue plate and on the gusset plate.\n",
    "    grade = 'ASTM A325'\n",
    "    size = '3/4\"'\n",
    "    Fu = 825*MPa\n",
    "    d = (3/4*inch).to(mm)\n",
    "    hole_type = 'punched'\n",
    "    hd = 22*mm            # hole diameter\n",
    "    ha = hd + 2*mm        # hole allowance\n",
    "    threads_intercepted = True\n",
    "    nlines = 2            # a line is perpendicular to load\n",
    "    nperline = 3          # number of bolts in each line\n",
    "    g = 75*mm             # gauge (perpendicular to load)\n",
    "    s = 75*mm             # spacing (parallel to load)\n",
    "\n",
    "class Welds(Part):\n",
    "    'Welds'\n",
    "    grade = 'E49xx'\n",
    "    Xu = 490*MPa\n",
    "    matching = True\n",
    "\n",
    "class Plates(Part):\n",
    "    'Plates'\n",
    "    grade = 'CSA G40.21 350W'\n",
    "    Fy = 350*MPa\n",
    "    Fu = 450*MPa\n",
    "\n",
    "class HSS(Part):\n",
    "    'HSS Column'\n",
    "    grade = 'CSA G40.21 350W'\n",
    "    Fy = 350*MPa\n",
    "    Fu = 450*MPa\n",
    "    size = 'HS127x127x13'\n",
    "    D,T,A = SST.section(size,'D,T,A')\n",
    "    D = D*mm\n",
    "    T = T*mm\n",
    "    A = A*mm*mm    \n",
    "\n",
    "class CoverPlate(Plates):\n",
    "    'Cover Plate'\n",
    "    T = 10*mm\n",
    "    W = 60*mm\n",
    "    Lw = 90*mm      # length of weld from net section to end of HSS\n",
    "    D = 6*mm        # size of weld from on HSS.\n",
    "   \n",
    "class TonguePlate(Plates):\n",
    "    'Tongue Plate'\n",
    "    T = 20*mm\n",
    "    W = 280*mm\n",
    "    L = 260*mm\n",
    "    e = 40*mm\n",
    "    D = 8*mm       # weld size\n",
    "    c = 45*mm      # dist end of weld to 1st bolt line  \n",
    "    Lw = L - (c + (Bolts.nlines-1)*Bolts.s + e)\n",
    "    Dh = SST.section(HSS.size,'D')*mm\n",
    "    ns = 10\n",
    "\n",
    "class GussetPlate(Plates): \n",
    "    'Gusset Plate'\n",
    "    T,W = TonguePlate.values('T,W')\n",
    "    W2 = 110*mm\n",
    "    e = 40*mm    # end distance\n",
    "    D = 8*mm     # plate to column weld size\n",
    "    theta = 45. "
   ]
  },
  {
   "cell_type": "code",
   "execution_count": 4,
   "metadata": {},
   "outputs": [
    {
     "data": {
      "text/plain": [
       "Designer.TonguePlate_Extract"
      ]
     },
     "execution_count": 4,
     "metadata": {},
     "output_type": "execute_result"
    }
   ],
   "source": [
    "c = extract('T,W,L=T*100',TonguePlate,CoverPlate,Plates)\n",
    "c"
   ]
  },
  {
   "cell_type": "code",
   "execution_count": 5,
   "metadata": {},
   "outputs": [
    {
     "data": {
      "text/plain": [
       "{T: 20 <Unit('millimeter')>,\n",
       " W: 280 <Unit('millimeter')>,\n",
       " L: 2000 <Unit('millimeter')>}"
      ]
     },
     "execution_count": 5,
     "metadata": {},
     "output_type": "execute_result"
    }
   ],
   "source": [
    "c.__ns__()"
   ]
  },
  {
   "cell_type": "code",
   "execution_count": 11,
   "metadata": {},
   "outputs": [
    {
     "data": {
      "text/plain": [
       "[(T, 20 <Unit('millimeter')>),\n",
       " (L, 260 <Unit('millimeter')>),\n",
       " (Fy, 350 <Unit('megapascal')>),\n",
       " (Dh, 127.0 <Unit('millimeter')>)]"
      ]
     },
     "execution_count": 11,
     "metadata": {},
     "output_type": "execute_result"
    }
   ],
   "source": [
    "TonguePlate.items('T,L,Fy,Dh')"
   ]
  },
  {
   "cell_type": "code",
   "execution_count": null,
   "metadata": {},
   "outputs": [],
   "source": [
    "c.show()"
   ]
  },
  {
   "cell_type": "code",
   "execution_count": null,
   "metadata": {},
   "outputs": [],
   "source": [
    "GussetPlate.show()"
   ]
  },
  {
   "cell_type": "code",
   "execution_count": null,
   "metadata": {},
   "outputs": [],
   "source": [
    "d = GussetPlate.get('e')\n",
    "d"
   ]
  },
  {
   "cell_type": "code",
   "execution_count": null,
   "metadata": {},
   "outputs": [],
   "source": [
    "def SV(s,*objs,**kwds):\n",
    "    ns = {}\n",
    "    for o in reversed(objs):\n",
    "        ns.update(o.__ns__())\n",
    "    ns.update(kwds)\n",
    "    return ns"
   ]
  },
  {
   "cell_type": "code",
   "execution_count": null,
   "metadata": {},
   "outputs": [],
   "source": [
    "SV('',CoverPlate,TonguePlate,LL=300)"
   ]
  },
  {
   "cell_type": "code",
   "execution_count": null,
   "metadata": {},
   "outputs": [],
   "source": [
    "def _setup(self):\n",
    "    \"\"\"Add all attributes/values to the set of global variables.\n",
    "    Save enough state so that they can be restored when the context\n",
    "    manager exits.\"\"\"\n",
    "    gns = get_ipython().user_ns  # get the ns for the user\n",
    "    d = {}\n",
    "    gns = get_ipython().user_ns\n",
    "    for ob in self.objattrs:\n",
    "        if ispartial(ob):\n",
    "            for target,value in ob.ns().items():\n",
    "                if target in d:\n",
    "                    raise DesignerError('''Name '{}' has been used more than once.'''.format(target))\n",
    "                d[target] = value\n",
    "            continue\n",
    "        else:\n",
    "            obj,names = ob\n",
    "        objns = obj.ns()\n",
    "        for expr in se_split(names):\n",
    "            if '=' in expr:\n",
    "                target,rhs = [x.strip() for x in expr.split('=',1)]\n",
    "                if rhs in objns:\n",
    "                    value = objns[rhs]\n",
    "                else:\n",
    "                    value = eval(rhs,gns,objns)\n",
    "            else:\n",
    "                target = expr\n",
    "                value = objns[expr]\n",
    "            if target in d:\n",
    "                raise DesignerError('''Name '{}' has been used more than once.'''.format(target))\n",
    "            d[target] = value\n",
    "    self.new_values = d\n",
    "    self.local_vars = [y for y in [x.strip() for x in self.local.split(',')] if y] + [self.result_var]\n",
    "    self.global_vars = [y for y in [x.strip() for x in self.globals.split(',')] if y]\n",
    "\n",
    "    self.changed_values = {}\n",
    "    self.added_vars = []\n"
   ]
  },
  {
   "cell_type": "code",
   "execution_count": null,
   "metadata": {},
   "outputs": [],
   "source": [
    "sorted?"
   ]
  },
  {
   "cell_type": "code",
   "execution_count": null,
   "metadata": {},
   "outputs": [],
   "source": [
    "d = dict(a=1,b=2)"
   ]
  },
  {
   "cell_type": "code",
   "execution_count": null,
   "metadata": {},
   "outputs": [],
   "source": [
    "d.items()"
   ]
  },
  {
   "cell_type": "code",
   "execution_count": null,
   "metadata": {},
   "outputs": [],
   "source": [
    "class DesignNotes_CM(object):\n",
    "\n",
    "    \"\"\"DesignNotes Context Manager.\"\"\"\n",
    "\n",
    "    def __init__(self, notes, *objattrs, label=None, result_var=None,\n",
    "                 local='', locals='', globals='', trace=None, record=True):\n",
    "        self.notes = notes\n",
    "        self.objattrs = objattrs\n",
    "        self.label = label\n",
    "        if result_var is None:\n",
    "            result_var = notes.var\n",
    "        self.result_var = result_var\n",
    "        self.local = local + locals   # get rid of local some day, locals is preferred because of globals\n",
    "        self.globals = globals\n",
    "        if trace is None:\n",
    "            trace = notes.trace\n",
    "        self.trace = trace\n",
    "        self.record = record\n",
    "        self._setup()\n",
    "\n",
    "    def _setup(self):\n",
    "        \"\"\"Add all attributes/values to the set of global variables.\n",
    "        Save enough state so that they can be restored when the context\n",
    "        manager exits.\"\"\"\n",
    "        gns = get_ipython().user_ns  # get the ns for the user\n",
    "        d = {}\n",
    "        gns = get_ipython().user_ns\n",
    "        for ob in self.objattrs:\n",
    "            if ispartial(ob):\n",
    "                for target,value in ob.ns().items():\n",
    "                    if target in d:\n",
    "                        raise DesignerError('''Name '{}' has been used more than once.'''.format(target))\n",
    "                    d[target] = value\n",
    "                continue\n",
    "            else:\n",
    "                obj,names = ob\n",
    "            objns = obj.ns()\n",
    "            for expr in se_split(names):\n",
    "                if '=' in expr:\n",
    "                    target,rhs = [x.strip() for x in expr.split('=',1)]\n",
    "                    if rhs in objns:\n",
    "                        value = objns[rhs]\n",
    "                    else:\n",
    "                        value = eval(rhs,gns,objns)\n",
    "                else:\n",
    "                    target = expr\n",
    "                    value = objns[expr]\n",
    "                if target in d:\n",
    "                    raise DesignerError('''Name '{}' has been used more than once.'''.format(target))\n",
    "                d[target] = value\n",
    "        self.new_values = d\n",
    "        self.local_vars = [y for y in [x.strip() for x in self.local.split(',')] if y] + [self.result_var]\n",
    "        self.global_vars = [y for y in [x.strip() for x in self.globals.split(',')] if y]\n",
    "        \n",
    "        self.changed_values = {}\n",
    "        self.added_vars = []\n",
    "        \n",
    "    def __enter__(self):\n",
    "        gns = get_ipython().user_ns\n",
    "        for k,v in self.new_values.items():\n",
    "            if k in gns:\n",
    "                self.changed_values[k] = gns[k]\n",
    "            else:\n",
    "                self.added_vars.append(k)\n",
    "            gns[k] = v\n",
    "            \n",
    "        for k in self.local_vars:\n",
    "            if k in self.changed_values or k in self.added_vars:\n",
    "                raise DesignerError('''Name '{}' has been used more than once.'''.format(k))\n",
    "            if k in gns:\n",
    "                self.changed_values[k] = gns[k]\n",
    "                del gns[k]\n",
    "            else:\n",
    "                self.added_vars.append(k)\n",
    "        return self\n",
    "    \n",
    "    enter = __enter__\n",
    "    \n",
    "    def __exit__(self,exc_type,exc_value,exc_tb):\n",
    "        \"\"\"When the context exits, restore the global values to what they\n",
    "        were before entering.\"\"\"\n",
    "        gns = get_ipython().user_ns  # get the ns for the user\n",
    "        \n",
    "        # capture current values of all local variables\n",
    "        dct = {}\n",
    "        for k,v in self.changed_values.items():\n",
    "            if k in gns:\n",
    "                dct[k] = gns[k]\n",
    "        for k in self.added_vars + self.global_vars:\n",
    "            if k in gns:\n",
    "                dct[k] = gns[k]\n",
    "        self.ending_values = dct\n",
    "        \n",
    "        # record the result produced\n",
    "        if self.record and self.label and exc_type is None:\n",
    "            rkey = self.result_var\n",
    "            if rkey in gns:\n",
    "                rval = gns[rkey]\n",
    "            else:\n",
    "                raise DesignerError('''Result variable '{}' is not defined.'''.format(rkey))\n",
    "            self.notes.record(rval,self.label,values=self.ending_values)\n",
    "        \n",
    "        # now change the user ns back to what it was before __enter__\n",
    "        for k,v in self.changed_values.items():\n",
    "            gns[k] = v               # restore old values\n",
    "        for k in self.added_vars:\n",
    "            if k in gns:\n",
    "                del gns[k]           # or delete them if they were newly created\n",
    "        self.changed_values = {}\n",
    "        self.added_vars = []\n",
    "        return False              # to re-raise exceptions\n",
    "    \n",
    "    exit = __exit__\n"
   ]
  }
 ],
 "metadata": {
  "kernelspec": {
   "display_name": "Python 3",
   "language": "python",
   "name": "python3"
  },
  "language_info": {
   "codemirror_mode": {
    "name": "ipython",
    "version": 3
   },
   "file_extension": ".py",
   "mimetype": "text/x-python",
   "name": "python",
   "nbconvert_exporter": "python",
   "pygments_lexer": "ipython3",
   "version": "3.7.5"
  }
 },
 "nbformat": 4,
 "nbformat_minor": 4
}
