{
 "cells": [
  {
   "cell_type": "code",
   "execution_count": 1,
   "metadata": {},
   "outputs": [],
   "source": [
    "from Designer import DesignNotes, SST, Part, show, gvars, se_split\n",
    "import math\n",
    "sind = lambda deg: math.sin(math.radians(deg))  # return sin of angle expressed in degrees\n",
    "cosd = lambda deg: math.cos(math.radians(deg))  # return cos of angle expressed in degrees"
   ]
  },
  {
   "cell_type": "code",
   "execution_count": 2,
   "metadata": {},
   "outputs": [],
   "source": [
    "import pint                  # setup to use the module for computing with units\n",
    "ureg = pint.UnitRegistry()\n",
    "mm = ureg['mm']              # define symbols for the units used below\n",
    "inch = ureg['inch']\n",
    "kN = ureg['kN']\n",
    "MPa = ureg['MPa']\n",
    "ureg.default_format = '~P'"
   ]
  },
  {
   "cell_type": "code",
   "execution_count": 3,
   "metadata": {},
   "outputs": [],
   "source": [
    "class Bolts(Part):\n",
    "    'Bolts'   # bolt group is the same on the tongue plate and on the gusset plate.\n",
    "    grade = 'ASTM A325'\n",
    "    size = '3/4\"'\n",
    "    Fu = 825*MPa\n",
    "    d = (3/4*inch).to(mm)\n",
    "    hole_type = 'punched'\n",
    "    hd = 22*mm            # hole diameter\n",
    "    ha = hd + 2*mm        # hole allowance\n",
    "    threads_intercepted = True\n",
    "    nlines = 2            # a line is perpendicular to load\n",
    "    nperline = 3          # number of bolts in each line\n",
    "    g = 75*mm             # gauge (perpendicular to load)\n",
    "    s = 75*mm             # spacing (parallel to load)\n",
    "\n",
    "class Welds(Part):\n",
    "    'Welds'\n",
    "    grade = 'E49xx'\n",
    "    Xu = 490*MPa\n",
    "    matching = True\n",
    "\n",
    "class Plates(Part):\n",
    "    'Plates'\n",
    "    grade = 'CSA G40.21 350W'\n",
    "    Fy = 350*MPa\n",
    "    Fu = 450*MPa\n",
    "\n",
    "class HSS(Part):\n",
    "    'HSS Column'\n",
    "    grade = 'CSA G40.21 350W'\n",
    "    Fy = 350*MPa\n",
    "    Fu = 450*MPa\n",
    "    size = 'HS127x127x13'\n",
    "    D,T,A = SST.section(size,'D,T,A')\n",
    "    D = D*mm\n",
    "    T = T*mm\n",
    "    A = A*mm*mm    \n",
    "\n",
    "class CoverPlate(Plates):\n",
    "    'Cover Plate'\n",
    "    T = 10*mm\n",
    "    W = 60*mm\n",
    "    Lw = 90*mm      # length of weld from net section to end of HSS\n",
    "    D = 6*mm        # size of weld from on HSS.\n",
    "   \n",
    "class TonguePlate(Plates):\n",
    "    'Tongue Plate'\n",
    "    T = 20*mm\n",
    "    W = 280*mm\n",
    "    L = 260*mm\n",
    "    e = 40*mm\n",
    "    D = 8*mm       # weld size\n",
    "    c = 45*mm      # dist end of weld to 1st bolt line  \n",
    "    Lw = L - (c + (Bolts.nlines-1)*Bolts.s + e)\n",
    "    Dh = SST.section(HSS.size,'D')*mm\n",
    "    ns = 10\n",
    "\n",
    "class GussetPlate(Plates): \n",
    "    'Gusset Plate'\n",
    "    T,W = TonguePlate.values('T,W')\n",
    "    W2 = 110*mm\n",
    "    e = 40*mm    # end distance\n",
    "    D = 8*mm     # plate to column weld size\n",
    "    theta = 45. "
   ]
  },
  {
   "cell_type": "code",
   "execution_count": 4,
   "metadata": {},
   "outputs": [
    {
     "data": {
      "text/plain": [
       "<sst.Properties at 0x7efec175a990>"
      ]
     },
     "execution_count": 4,
     "metadata": {},
     "output_type": "execute_result"
    }
   ],
   "source": [
    "size = 'HS127x127x13'\n",
    "s = SST.section(size)\n",
    "s"
   ]
  },
  {
   "cell_type": "code",
   "execution_count": 5,
   "metadata": {},
   "outputs": [],
   "source": [
    "dn = DesignNotes('Vr',trace=True)\n",
    "DATA = dn.DATA\n",
    "GV = dn.GV"
   ]
  },
  {
   "cell_type": "code",
   "execution_count": 6,
   "metadata": {},
   "outputs": [
    {
     "name": "stdout",
     "output_type": "stream",
     "text": [
      "W     = 280       mm\n",
      "W2    = 110       mm\n",
      "theta = 45        \n",
      "D     = 8         mm\n",
      "Xu    = 490       MPa\n",
      "L     = 506       mm\n",
      "L1    = 308       mm\n",
      "Mw    = 1         \n",
      "Aw    = 5724      mm²\n",
      "Vr    = 2.008e+06 MPa·mm²\n"
     ]
    },
    {
     "data": {
      "text/plain": [
       "\n",
       "    Gusset to HSS Weld: Vr = 2008000 MPa·mm²"
      ]
     },
     "metadata": {},
     "output_type": "display_data"
    }
   ],
   "source": [
    "phiw = 0.67\n",
    "with DATA('Vr','Gusset to HSS Weld',\n",
    "           GV('W,W2,theta,D',GussetPlate),\n",
    "           GV('Xu',Welds),\n",
    "           GV('L,L1,Mw,Aw')):\n",
    "    L1 = W2+W*cosd(theta)\n",
    "    L = (L1/sind(theta))*cosd(theta) + W*sind(theta)\n",
    "\n",
    "    Mw = 1.0                  \n",
    "    Aw = 2*L*.707*D\n",
    "    Vr = 0.67*phiw*Aw*Xu*(1+sind(theta)**1.5)*Mw     # S16-14: 13.13.2.2"
   ]
  },
  {
   "cell_type": "code",
   "execution_count": null,
   "metadata": {},
   "outputs": [],
   "source": []
  }
 ],
 "metadata": {
  "kernelspec": {
   "display_name": "Python 3",
   "language": "python",
   "name": "python3"
  },
  "language_info": {
   "codemirror_mode": {
    "name": "ipython",
    "version": 3
   },
   "file_extension": ".py",
   "mimetype": "text/x-python",
   "name": "python",
   "nbconvert_exporter": "python",
   "pygments_lexer": "ipython3",
   "version": "3.7.5"
  }
 },
 "nbformat": 4,
 "nbformat_minor": 4
}
