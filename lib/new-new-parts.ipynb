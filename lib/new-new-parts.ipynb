{
 "cells": [
  {
   "cell_type": "code",
   "execution_count": 262,
   "metadata": {},
   "outputs": [],
   "source": [
    "from utils import show"
   ]
  },
  {
   "cell_type": "markdown",
   "metadata": {},
   "source": [
    "Note written 2020-02-14: Happy VD!  Current way of creating parts with inheritable values\n",
    "is very unpythonic.\n",
    "\n",
    "after \n",
    "```python\n",
    "@makePart\n",
    "class Bolts:\n",
    "    Fu = 825\n",
    "```\n",
    "'Bolts' isn't a class anymore but is an instance of class Parts.  That doesn't seen right.\n",
    " Even though class objects are instances of class 'type'.\n",
    " \n",
    "Here are experiments on how to retain the classness."
   ]
  },
  {
   "cell_type": "code",
   "execution_count": 243,
   "metadata": {},
   "outputs": [
    {
     "data": {
      "text/plain": [
       "True"
      ]
     },
     "execution_count": 243,
     "metadata": {},
     "output_type": "execute_result"
    }
   ],
   "source": [
    "isinstance(object,type)"
   ]
  },
  {
   "cell_type": "code",
   "execution_count": 266,
   "metadata": {},
   "outputs": [],
   "source": [
    "#from Designer import Part, CMPart\n",
    "\n",
    "class Part:\n",
    "    \n",
    "    def __init__(self,names=\"\"):\n",
    "        self.__names = [k.strip() for k in names.split(',') if k.strip()]\n",
    "        \n",
    "    def __enter__(self):\n",
    "        \"\"\"Add all attributes/values to the set of global variables.\n",
    "        Save enough state so that they can be restored when the context\n",
    "        manager exits.\"\"\"\n",
    "        if hasattr(self,'__saved'):\n",
    "            raise Exception('Object already is a context manager. Cannot be one again.')\n",
    "        dct = vars(self)\n",
    "        _new = []                # save a list of newly added variables\n",
    "        _old = {}                # remember values of those that already exist in ns.\n",
    "        ns = get_ipython().user_ns  # get the ns for the user\n",
    "        for k in self.__names:\n",
    "            if not hasattr(self,k):\n",
    "                raise KeyError('Invalid attribute: '+k)\n",
    "            if k in ns:\n",
    "                _old[k] = ns[k]\n",
    "            else:\n",
    "                _new.append(k)\n",
    "            ns[k] = getattr(self,k)\n",
    "        self.__saved = (_new,_old)\n",
    "        return self\n",
    "    \n",
    "    def __exit__(self,*l):\n",
    "        \"\"\"When the context exits, restore the global values to what they\n",
    "        were before entering.\"\"\"\n",
    "        _new,_old = self.__saved\n",
    "        ns = get_ipython().user_ns  # get the ns for the user\n",
    "        for k,v in _old.items():\n",
    "            ns[k] = v              # restore old values\n",
    "        for k in _new:\n",
    "            del ns[k]              # or delete them if they were newly created\n",
    "        del self.__saved\n",
    "        return False              # to re-raise exceptions\n",
    "    \n",
    "    \n",
    "    @classmethod\n",
    "    def only(cls,names=''):\n",
    "        newdct = {}\n",
    "        dct = cls.__dict__\n",
    "        for k in names.split(','):\n",
    "            k = k.strip()\n",
    "            if k and k in dct:\n",
    "                newdct[k] = dct[k]\n",
    "        newdct['__doc__'] = dct.get('__doc__')\n",
    "        newname = 'Part_of_'+cls.__name__\n",
    "        return type(newname,cls.__bases__,newdct)\n",
    "\n",
    "def makePart(cls):\n",
    "    \"\"\"Returns an object of type Part from the class definition and class attributes\n",
    "    of 'cls'.  Intended to be used as a decorator so we can use class definitions\n",
    "    to build parts (syntactic sugar).\"\"\"\n",
    "    dct = cls.__dict__\n",
    "    bases = cls.__bases__\n",
    "    if Part not in cls.mro():\n",
    "        if len(bases) > 0 and bases[-1] is object:\n",
    "            bases = bases[:-1] + (Part,) + bases[-1:]\n",
    "        else:\n",
    "            bases = bases + (Part,)\n",
    "        newdct = {k:v for k,v in dct.items() if not k.startswith('__')}\n",
    "        newdct['__doc__'] = dct.get('__doc__')\n",
    "        return type(cls.__name__,bases,newdct)\n",
    "    return cls"
   ]
  },
  {
   "cell_type": "code",
   "execution_count": 272,
   "metadata": {},
   "outputs": [],
   "source": [
    "@makePart \n",
    "class Foo:\n",
    "    \"this is a Foo\"\n",
    "    A = 3\n",
    "    B = 4\n",
    "    C = 5\n",
    "    D = 6\n",
    "    E = 7"
   ]
  },
  {
   "cell_type": "code",
   "execution_count": 273,
   "metadata": {},
   "outputs": [],
   "source": [
    "@makePart\n",
    "class Bar(Foo):\n",
    "    A = 10\n",
    "    C = 20"
   ]
  },
  {
   "cell_type": "code",
   "execution_count": 274,
   "metadata": {},
   "outputs": [
    {
     "data": {
      "text/plain": [
       "[__main__.Bar, __main__.Foo, __main__.Part, object]"
      ]
     },
     "execution_count": 274,
     "metadata": {},
     "output_type": "execute_result"
    }
   ],
   "source": [
    "Bar.mro()"
   ]
  },
  {
   "cell_type": "code",
   "execution_count": 275,
   "metadata": {},
   "outputs": [
    {
     "name": "stdout",
     "output_type": "stream",
     "text": [
      "Foo.A = 3  \n",
      "Foo.B = 4  \n",
      "Foo.C = 5  \n",
      "Bar.A = 10 \n",
      "Bar.B = 4  \n",
      "Bar.C = 20 \n"
     ]
    }
   ],
   "source": [
    "%show Foo.A, Foo.B, Foo.C, Bar.A, Bar.B, Bar.C"
   ]
  },
  {
   "cell_type": "code",
   "execution_count": 228,
   "metadata": {},
   "outputs": [
    {
     "data": {
      "text/plain": [
       "True"
      ]
     },
     "execution_count": 228,
     "metadata": {},
     "output_type": "execute_result"
    }
   ],
   "source": [
    "Part in Bar.mro()"
   ]
  },
  {
   "cell_type": "code",
   "execution_count": 256,
   "metadata": {},
   "outputs": [],
   "source": [
    "@makePart\n",
    "class Zap(Foo.only('B,D')):\n",
    "    A = 0"
   ]
  },
  {
   "cell_type": "code",
   "execution_count": 258,
   "metadata": {},
   "outputs": [
    {
     "name": "stdout",
     "output_type": "stream",
     "text": [
      "Zap.A = 0   \n",
      "Zap.B = 4   \n",
      "Zap.D = 6   \n",
      "Zap.E = ??? \n"
     ]
    }
   ],
   "source": [
    "%show Zap.A, Zap.B, Zap.D, Zap.E"
   ]
  },
  {
   "cell_type": "code",
   "execution_count": 251,
   "metadata": {},
   "outputs": [],
   "source": [
    "class X:\n",
    "    XX = 4"
   ]
  },
  {
   "cell_type": "code",
   "execution_count": 252,
   "metadata": {},
   "outputs": [
    {
     "data": {
      "text/plain": [
       "[__main__.X, object]"
      ]
     },
     "execution_count": 252,
     "metadata": {},
     "output_type": "execute_result"
    }
   ],
   "source": [
    "X.mro()"
   ]
  },
  {
   "cell_type": "code",
   "execution_count": 253,
   "metadata": {},
   "outputs": [],
   "source": [
    "@makePart\n",
    "class Y(X):\n",
    "    YY = 5"
   ]
  },
  {
   "cell_type": "code",
   "execution_count": 254,
   "metadata": {},
   "outputs": [
    {
     "data": {
      "text/plain": [
       "[__main__.Y, __main__.X, __main__.Part, object]"
      ]
     },
     "execution_count": 254,
     "metadata": {},
     "output_type": "execute_result"
    }
   ],
   "source": [
    "Y.mro()"
   ]
  },
  {
   "cell_type": "code",
   "execution_count": 255,
   "metadata": {},
   "outputs": [
    {
     "data": {
      "text/plain": [
       "(__main__.X, __main__.Part)"
      ]
     },
     "execution_count": 255,
     "metadata": {},
     "output_type": "execute_result"
    }
   ],
   "source": [
    "Y.__bases__"
   ]
  },
  {
   "cell_type": "code",
   "execution_count": 263,
   "metadata": {},
   "outputs": [
    {
     "name": "stdout",
     "output_type": "stream",
     "text": [
      "A = 0 \n",
      "B = 4 \n",
      "D = 6 \n",
      "A = 3  \n",
      "B = 10 \n",
      "D = 6  \n",
      "A = ??? \n",
      "B = ??? \n",
      "D = ??? \n"
     ]
    }
   ],
   "source": [
    "with Zap('A,B,D'):\n",
    "    show('A,B,D')\n",
    "    B = 10\n",
    "    with Foo('A'):\n",
    "        show('A,B,D')\n",
    "%show A,B,D"
   ]
  },
  {
   "cell_type": "code",
   "execution_count": null,
   "metadata": {},
   "outputs": [],
   "source": []
  }
 ],
 "metadata": {
  "kernelspec": {
   "display_name": "Python 3",
   "language": "python",
   "name": "python3"
  },
  "language_info": {
   "codemirror_mode": {
    "name": "ipython",
    "version": 3
   },
   "file_extension": ".py",
   "mimetype": "text/x-python",
   "name": "python",
   "nbconvert_exporter": "python",
   "pygments_lexer": "ipython3",
   "version": "3.6.8"
  }
 },
 "nbformat": 4,
 "nbformat_minor": 2
}
