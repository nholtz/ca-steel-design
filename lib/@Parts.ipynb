{
 "cells": [
  {
   "cell_type": "code",
   "execution_count": 4,
   "metadata": {},
   "outputs": [],
   "source": [
    "from Designer import Part"
   ]
  },
  {
   "cell_type": "code",
   "execution_count": 7,
   "metadata": {},
   "outputs": [],
   "source": [
    "import pint                  # setup to use the module for computing with units\n",
    "ureg = pint.UnitRegistry()\n",
    "mm = ureg['mm']              # define symbols for the units used below\n",
    "inch = ureg['inch']\n",
    "kN = ureg['kN']\n",
    "MPa = ureg['MPa']\n",
    "ureg.default_format = '~P'"
   ]
  },
  {
   "cell_type": "code",
   "execution_count": 48,
   "metadata": {},
   "outputs": [],
   "source": [
    "Bolts0 = Part('Bolts',   # bolt group is the same on tongue polate and on gusset plate.\n",
    "        grade = 'ASTM A325',\n",
    "        size = '3/4\"',\n",
    "        Fu = 825*MPa,\n",
    "        d = (3/4*inch).to(mm),\n",
    "        hole_type = 'punched',\n",
    "        hd = 22*mm,            # hole diameter\n",
    "        ha = 22*mm + 2*mm,     # hole allowance\n",
    "        threads_intercepted = True,\n",
    "        nlines = 2,            # a line is perpendicular to load\n",
    "        nperline = 3,          # number of bolts in each line\n",
    "        g = 75*mm,             # gauge (perpendicular to load)\n",
    "        s = 75*mm,             # spacing (parallel to load)\n",
    "          )\n"
   ]
  },
  {
   "cell_type": "code",
   "execution_count": 49,
   "metadata": {},
   "outputs": [
    {
     "data": {
      "text/plain": [
       "<Designer.Part at 0x7fe55b7b04a8>"
      ]
     },
     "execution_count": 49,
     "metadata": {},
     "output_type": "execute_result"
    }
   ],
   "source": [
    "Bolts0"
   ]
  },
  {
   "cell_type": "code",
   "execution_count": 77,
   "metadata": {},
   "outputs": [],
   "source": [
    "def makePart(cls):\n",
    "    \"\"\"Returns an object of type Part from the class definition and class attributes\n",
    "    of 'cls'.  Intended to be used as a decorator so we can use class definitions\n",
    "    to build parts (syntactic sugar).\"\"\"\n",
    "    dct = cls.__dict__\n",
    "    vars = dict([pair for pair in dct.items() if not pair[0].startswith('__')])\n",
    "    prt = Part(dct.get('__doc__',''),**vars)\n",
    "    return prt"
   ]
  },
  {
   "cell_type": "code",
   "execution_count": 78,
   "metadata": {},
   "outputs": [],
   "source": [
    "@makePart\n",
    "class Bolts:\n",
    "    'Bolts'   # the bolt group is the same on the tongue plate and on the gusset plate.                    \n",
    "    grade = 'ASTM A325'\n",
    "    size = '3/4\"'\n",
    "    Fu = 825*MPa\n",
    "    d = (3/4*inch).to(mm)\n",
    "    hole_type = 'punched'\n",
    "    hd = 22*mm            # hole diameter\n",
    "    ha = hd + 2*mm     # hole allowance\n",
    "    threads_intercepted = True\n",
    "    nlines = 2            # a line is perpendicular to load\n",
    "    nperline = 3          # number of bolts in each line\n",
    "    g = 75*mm             # gauge (perpendicular to load)\n",
    "    s = 75*mm             # spacing (parallel to load)"
   ]
  },
  {
   "cell_type": "code",
   "execution_count": 79,
   "metadata": {},
   "outputs": [
    {
     "data": {
      "text/plain": [
       "<Designer.Part at 0x7fe55b74afd0>"
      ]
     },
     "execution_count": 79,
     "metadata": {},
     "output_type": "execute_result"
    }
   ],
   "source": [
    "Bolts"
   ]
  },
  {
   "cell_type": "code",
   "execution_count": 76,
   "metadata": {},
   "outputs": [
    {
     "data": {
      "text/plain": [
       "{'Fu': 825 MPa,\n",
       " '_doc': 'Bolts',\n",
       " 'd': 19.049999999999997 mm,\n",
       " 'g': 75 mm,\n",
       " 'grade': 'ASTM A325',\n",
       " 'ha': 24 mm,\n",
       " 'hd': 22 mm,\n",
       " 'hole_type': 'punched',\n",
       " 'nlines': 2,\n",
       " 'nperline': 3,\n",
       " 's': 75 mm,\n",
       " 'size': '3/4\"',\n",
       " 'threads_intercepted': True}"
      ]
     },
     "execution_count": 76,
     "metadata": {},
     "output_type": "execute_result"
    }
   ],
   "source": [
    "vars(Bolts)"
   ]
  },
  {
   "cell_type": "code",
   "execution_count": null,
   "metadata": {},
   "outputs": [],
   "source": []
  }
 ],
 "metadata": {
  "kernelspec": {
   "display_name": "Python 3",
   "language": "python",
   "name": "python3"
  },
  "language_info": {
   "codemirror_mode": {
    "name": "ipython",
    "version": 3
   },
   "file_extension": ".py",
   "mimetype": "text/x-python",
   "name": "python",
   "nbconvert_exporter": "python",
   "pygments_lexer": "ipython3",
   "version": "3.6.8"
  }
 },
 "nbformat": 4,
 "nbformat_minor": 2
}
