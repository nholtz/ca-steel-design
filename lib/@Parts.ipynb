{
 "cells": [
  {
   "cell_type": "code",
   "execution_count": 1,
   "metadata": {},
   "outputs": [],
   "source": [
    "from Designer2 import Part"
   ]
  },
  {
   "cell_type": "code",
   "execution_count": 2,
   "metadata": {},
   "outputs": [],
   "source": [
    "import pint                  # setup to use the module for computing with units\n",
    "ureg = pint.UnitRegistry()\n",
    "mm = ureg['mm']              # define symbols for the units used below\n",
    "inch = ureg['inch']\n",
    "kN = ureg['kN']\n",
    "MPa = ureg['MPa']\n",
    "ureg.default_format = '~P'"
   ]
  },
  {
   "cell_type": "code",
   "execution_count": 3,
   "metadata": {},
   "outputs": [
    {
     "name": "stdout",
     "output_type": "stream",
     "text": [
      "<Designer2.Part object at 0x7f5ff0cd7208> Bolts ()\n"
     ]
    }
   ],
   "source": [
    "Bolts0 = Part('Bolts',   # bolt group is the same on tongue polate and on gusset plate.\n",
    "        grade = 'ASTM A325',\n",
    "        size = '3/4\"',\n",
    "        Fu = 825*MPa,\n",
    "        d = (3/4*inch).to(mm),\n",
    "        hole_type = 'punched',\n",
    "        hd = 22*mm,            # hole diameter\n",
    "        ha = 22*mm + 2*mm,     # hole allowance\n",
    "        threads_intercepted = True,\n",
    "        nlines = 2,            # a line is perpendicular to load\n",
    "        nperline = 3,          # number of bolts in each line\n",
    "        g = 75*mm,             # gauge (perpendicular to load)\n",
    "        s = 75*mm,             # spacing (parallel to load)\n",
    "          )\n"
   ]
  },
  {
   "cell_type": "code",
   "execution_count": 4,
   "metadata": {},
   "outputs": [
    {
     "data": {
      "text/plain": [
       "<Designer2.Part at 0x7f5ff0cd7208>"
      ]
     },
     "execution_count": 4,
     "metadata": {},
     "output_type": "execute_result"
    }
   ],
   "source": [
    "Bolts0"
   ]
  },
  {
   "cell_type": "code",
   "execution_count": 76,
   "metadata": {},
   "outputs": [],
   "source": [
    "import inspect\n",
    "def makePart(*args):\n",
    "    \"\"\"Returns an object of type Part from the class definition and class attributes\n",
    "    of 'cls'.  Intended to be used as a decorator so we can use class definitions\n",
    "    to build parts (syntactic sugar).\"\"\"\n",
    "    inherit = ()\n",
    "    cls = None\n",
    "    def _makePart(cls=cls,inherit=()):\n",
    "        dct = cls.__dict__\n",
    "        idict = {}\n",
    "        for obj in inherit:\n",
    "            idict.update(vars(obj))\n",
    "        idict.update(dict([pair for pair in dct.items() if not pair[0].startswith('__')]))\n",
    "        if '_doc' in idict:\n",
    "            del idict['_doc']\n",
    "        prt = Part(dct.get('__doc__',''),**idict)\n",
    "        return prt\n",
    "    if len(args) == 1 and inspect.isclass(args[0]):\n",
    "        return _makePart(args[0])\n",
    "    inherit = args\n",
    "    def _callmp(cls=cls,inherit=inherit):\n",
    "        return _makePart(cls=cls,inherit=inherit)\n",
    "    return _callmp"
   ]
  },
  {
   "cell_type": "code",
   "execution_count": 77,
   "metadata": {},
   "outputs": [
    {
     "name": "stdout",
     "output_type": "stream",
     "text": [
      "<Designer2.Part object at 0x7f5ff0c57780> Bolts ()\n"
     ]
    }
   ],
   "source": [
    "@makePart\n",
    "class Bolts:\n",
    "    'Bolts'   # the bolt group is the same on the tongue plate and on the gusset plate.                    \n",
    "    grade = 'ASTM A325'\n",
    "    size = '3/4\"'\n",
    "    Fu = 825*MPa\n",
    "    d = (3/4*inch).to(mm)\n",
    "    hole_type = 'punched'\n",
    "    hd = 22*mm            # hole diameter\n",
    "    ha = hd + (0 if hole_type == 'drilled' else 2*mm)     # hole allowance\n",
    "    threads_intercepted = True\n",
    "    nlines = 2            # a line is perpendicular to load\n",
    "    nperline = 3          # number of bolts in each line\n",
    "    g = 75*mm             # gauge (perpendicular to load)\n",
    "    s = 75*mm             # spacing (parallel to load)"
   ]
  },
  {
   "cell_type": "code",
   "execution_count": 78,
   "metadata": {},
   "outputs": [
    {
     "data": {
      "text/plain": [
       "<Designer2.Part at 0x7f5ff0c57780>"
      ]
     },
     "execution_count": 78,
     "metadata": {},
     "output_type": "execute_result"
    }
   ],
   "source": [
    "Bolts"
   ]
  },
  {
   "cell_type": "code",
   "execution_count": 79,
   "metadata": {},
   "outputs": [
    {
     "data": {
      "text/plain": [
       "{'Fu': 825 MPa,\n",
       " '_doc': 'Bolts',\n",
       " 'd': 19.049999999999997 mm,\n",
       " 'g': 75 mm,\n",
       " 'grade': 'ASTM A325',\n",
       " 'ha': 24 mm,\n",
       " 'hd': 22 mm,\n",
       " 'hole_type': 'punched',\n",
       " 'nlines': 2,\n",
       " 'nperline': 3,\n",
       " 's': 75 mm,\n",
       " 'size': '3/4\"',\n",
       " 'threads_intercepted': True}"
      ]
     },
     "execution_count": 79,
     "metadata": {},
     "output_type": "execute_result"
    }
   ],
   "source": [
    "vars(Bolts)"
   ]
  },
  {
   "cell_type": "code",
   "execution_count": 84,
   "metadata": {},
   "outputs": [
    {
     "name": "stdout",
     "output_type": "stream",
     "text": [
      "<Designer2.Part object at 0x7f5ff0c58cf8> a test ()\n"
     ]
    }
   ],
   "source": [
    "@makePart(Bolts)\n",
    "class Test:\n",
    "    \"a test\"\n",
    "    nlines = 3\n",
    "    g = 70*mm"
   ]
  },
  {
   "cell_type": "code",
   "execution_count": 85,
   "metadata": {},
   "outputs": [
    {
     "data": {
      "text/plain": [
       "{'Fu': 825 MPa,\n",
       " '_doc': 'a test',\n",
       " 'd': 19.049999999999997 mm,\n",
       " 'g': 70 mm,\n",
       " 'grade': 'ASTM A325',\n",
       " 'ha': 24 mm,\n",
       " 'hd': 22 mm,\n",
       " 'hole_type': 'punched',\n",
       " 'nlines': 3,\n",
       " 'nperline': 3,\n",
       " 's': 75 mm,\n",
       " 'size': '3/4\"',\n",
       " 'threads_intercepted': True}"
      ]
     },
     "execution_count": 85,
     "metadata": {},
     "output_type": "execute_result"
    }
   ],
   "source": [
    "vars(Test)"
   ]
  },
  {
   "cell_type": "code",
   "execution_count": 11,
   "metadata": {},
   "outputs": [],
   "source": [
    "import inspect"
   ]
  },
  {
   "cell_type": "code",
   "execution_count": 12,
   "metadata": {},
   "outputs": [],
   "source": [
    "class Foo:\n",
    "    z = 3\n",
    "    b = 2.0*z\n",
    "    a = 3/1"
   ]
  },
  {
   "cell_type": "code",
   "execution_count": 13,
   "metadata": {},
   "outputs": [
    {
     "data": {
      "text/plain": [
       "[Attribute(name='__dict__', kind='data', defining_class=<class '__main__.Foo'>, object=<attribute '__dict__' of 'Foo' objects>),\n",
       " Attribute(name='__doc__', kind='data', defining_class=<class '__main__.Foo'>, object=None),\n",
       " Attribute(name='__module__', kind='data', defining_class=<class '__main__.Foo'>, object='__main__'),\n",
       " Attribute(name='__weakref__', kind='data', defining_class=<class '__main__.Foo'>, object=<attribute '__weakref__' of 'Foo' objects>),\n",
       " Attribute(name='a', kind='data', defining_class=<class '__main__.Foo'>, object=3.0),\n",
       " Attribute(name='b', kind='data', defining_class=<class '__main__.Foo'>, object=6.0),\n",
       " Attribute(name='z', kind='data', defining_class=<class '__main__.Foo'>, object=3)]"
      ]
     },
     "execution_count": 13,
     "metadata": {},
     "output_type": "execute_result"
    }
   ],
   "source": [
    "[a for a in inspect.classify_class_attrs(Foo) if a.kind == 'data' and a.defining_class is Foo]"
   ]
  },
  {
   "cell_type": "code",
   "execution_count": 14,
   "metadata": {},
   "outputs": [
    {
     "data": {
      "text/plain": [
       "True"
      ]
     },
     "execution_count": 14,
     "metadata": {},
     "output_type": "execute_result"
    }
   ],
   "source": [
    "inspect.isclass(Foo)"
   ]
  },
  {
   "cell_type": "code",
   "execution_count": 15,
   "metadata": {},
   "outputs": [
    {
     "data": {
      "text/plain": [
       "False"
      ]
     },
     "execution_count": 15,
     "metadata": {},
     "output_type": "execute_result"
    }
   ],
   "source": [
    "inspect.isclass(Bolts)"
   ]
  },
  {
   "cell_type": "code",
   "execution_count": 16,
   "metadata": {},
   "outputs": [
    {
     "name": "stdout",
     "output_type": "stream",
     "text": [
      "<Designer2.Part object at 0x7f5ff0c41128> Bar ((<Designer2.Part object at 0x7f5ff0cd7d68>,), {'__module__': '__main__', '__qualname__': 'Bar'})\n"
     ]
    }
   ],
   "source": [
    "class Bar(Bolts):\n",
    "    pass"
   ]
  },
  {
   "cell_type": "code",
   "execution_count": null,
   "metadata": {},
   "outputs": [],
   "source": [
    "Bolts.__init__"
   ]
  },
  {
   "cell_type": "code",
   "execution_count": null,
   "metadata": {},
   "outputs": [],
   "source": [
    "def init(*args):\n",
    "    print(args)\n",
    "Bolts.__init__ = init\n",
    "class Bar(Bolts):\n",
    "    pass"
   ]
  },
  {
   "cell_type": "code",
   "execution_count": null,
   "metadata": {},
   "outputs": [],
   "source": [
    "Bolts.__class__.__init__"
   ]
  },
  {
   "cell_type": "code",
   "execution_count": 17,
   "metadata": {},
   "outputs": [
    {
     "data": {
      "text/plain": [
       "<slot wrapper '__init__' of 'object' objects>"
      ]
     },
     "execution_count": 17,
     "metadata": {},
     "output_type": "execute_result"
    }
   ],
   "source": [
    "Foo.__init__"
   ]
  },
  {
   "cell_type": "code",
   "execution_count": 19,
   "metadata": {},
   "outputs": [
    {
     "data": {
      "text/plain": [
       "{'_doc': 'Bar'}"
      ]
     },
     "execution_count": 19,
     "metadata": {},
     "output_type": "execute_result"
    }
   ],
   "source": [
    "vars(Bar)"
   ]
  },
  {
   "cell_type": "code",
   "execution_count": 26,
   "metadata": {},
   "outputs": [],
   "source": [
    "class One:\n",
    "    def __init__(*args):\n",
    "        print('One.__init() called:',args)\n",
    "    def __call__(*args):\n",
    "        print('One object called:',args)"
   ]
  },
  {
   "cell_type": "code",
   "execution_count": 27,
   "metadata": {},
   "outputs": [],
   "source": [
    "class Two(One):\n",
    "    def __init__(*args):\n",
    "        print('Two.__init__ called:',args)"
   ]
  },
  {
   "cell_type": "code",
   "execution_count": 28,
   "metadata": {},
   "outputs": [
    {
     "name": "stdout",
     "output_type": "stream",
     "text": [
      "Two.__init__ called: (<__main__.Two object at 0x7f5ff0c41f60>,)\n"
     ]
    }
   ],
   "source": [
    "two = Two()"
   ]
  },
  {
   "cell_type": "code",
   "execution_count": 29,
   "metadata": {},
   "outputs": [
    {
     "name": "stdout",
     "output_type": "stream",
     "text": [
      "One.__init() called: (<__main__.One object at 0x7f5ff0c51080>,)\n"
     ]
    }
   ],
   "source": [
    "one = One()"
   ]
  },
  {
   "cell_type": "code",
   "execution_count": 39,
   "metadata": {},
   "outputs": [
    {
     "name": "stdout",
     "output_type": "stream",
     "text": [
      "One.__init() called: (<__main__.One object at 0x7f5ff0c41588>, 'Three', (<__main__.One object at 0x7f5ff0c51080>,), {'__module__': '__main__', '__qualname__': 'Three', 'q': 10})\n"
     ]
    }
   ],
   "source": [
    "class Three(one):\n",
    "    q = 10\n",
    "#    def __init__(*args):\n",
    "#        print('Three.__init__ called:',args)"
   ]
  },
  {
   "cell_type": "code",
   "execution_count": 40,
   "metadata": {},
   "outputs": [
    {
     "name": "stdout",
     "output_type": "stream",
     "text": [
      "One object called: (<__main__.One object at 0x7f5ff0c41588>,)\n"
     ]
    }
   ],
   "source": [
    "Three()"
   ]
  },
  {
   "cell_type": "code",
   "execution_count": 41,
   "metadata": {},
   "outputs": [
    {
     "data": {
      "text/plain": [
       "__main__.Two"
      ]
     },
     "execution_count": 41,
     "metadata": {},
     "output_type": "execute_result"
    }
   ],
   "source": [
    "Two"
   ]
  },
  {
   "cell_type": "code",
   "execution_count": 45,
   "metadata": {},
   "outputs": [
    {
     "data": {
      "text/plain": [
       "False"
      ]
     },
     "execution_count": 45,
     "metadata": {},
     "output_type": "execute_result"
    }
   ],
   "source": [
    "isinstance(Two,Part)"
   ]
  },
  {
   "cell_type": "code",
   "execution_count": 44,
   "metadata": {},
   "outputs": [
    {
     "data": {
      "text/plain": [
       "True"
      ]
     },
     "execution_count": 44,
     "metadata": {},
     "output_type": "execute_result"
    }
   ],
   "source": [
    "isinstance(Bolts,Part)"
   ]
  },
  {
   "cell_type": "code",
   "execution_count": null,
   "metadata": {},
   "outputs": [],
   "source": []
  }
 ],
 "metadata": {
  "kernelspec": {
   "display_name": "Python 3",
   "language": "python",
   "name": "python3"
  },
  "language_info": {
   "codemirror_mode": {
    "name": "ipython",
    "version": 3
   },
   "file_extension": ".py",
   "mimetype": "text/x-python",
   "name": "python",
   "nbconvert_exporter": "python",
   "pygments_lexer": "ipython3",
   "version": "3.6.8"
  }
 },
 "nbformat": 4,
 "nbformat_minor": 2
}
