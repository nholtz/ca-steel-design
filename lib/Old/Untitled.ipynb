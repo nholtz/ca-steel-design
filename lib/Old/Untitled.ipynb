{
 "cells": [
  {
   "cell_type": "code",
   "execution_count": 6,
   "metadata": {},
   "outputs": [],
   "source": [
    "import inspect"
   ]
  },
  {
   "cell_type": "code",
   "execution_count": 38,
   "metadata": {},
   "outputs": [],
   "source": [
    "class Foo:\n",
    "    \n",
    "    def __init__(self,*args,**kw):\n",
    "        print('Foo __init__:',self,args,kw)\n",
    "        self.args = args\n",
    "        self.kw = kw\n",
    "        \n",
    "    @classmethod\n",
    "    def __init_subclass__(cls,**kw):\n",
    "        print('Foo __init_subclass__:',cls,kw)\n",
    "        cls.kw2 = kw"
   ]
  },
  {
   "cell_type": "code",
   "execution_count": 39,
   "metadata": {},
   "outputs": [
    {
     "data": {
      "text/plain": [
       "[Attribute(name='__class__', kind='data', defining_class=<class 'object'>, object=<class 'type'>),\n",
       " Attribute(name='__delattr__', kind='method', defining_class=<class 'object'>, object=<slot wrapper '__delattr__' of 'object' objects>),\n",
       " Attribute(name='__dict__', kind='data', defining_class=<class '__main__.Foo'>, object=<attribute '__dict__' of 'Foo' objects>),\n",
       " Attribute(name='__dir__', kind='method', defining_class=<class 'object'>, object=<method '__dir__' of 'object' objects>),\n",
       " Attribute(name='__doc__', kind='data', defining_class=<class '__main__.Foo'>, object=None),\n",
       " Attribute(name='__eq__', kind='method', defining_class=<class 'object'>, object=<slot wrapper '__eq__' of 'object' objects>),\n",
       " Attribute(name='__format__', kind='method', defining_class=<class 'object'>, object=<method '__format__' of 'object' objects>),\n",
       " Attribute(name='__ge__', kind='method', defining_class=<class 'object'>, object=<slot wrapper '__ge__' of 'object' objects>),\n",
       " Attribute(name='__getattribute__', kind='method', defining_class=<class 'object'>, object=<slot wrapper '__getattribute__' of 'object' objects>),\n",
       " Attribute(name='__gt__', kind='method', defining_class=<class 'object'>, object=<slot wrapper '__gt__' of 'object' objects>),\n",
       " Attribute(name='__hash__', kind='method', defining_class=<class 'object'>, object=<slot wrapper '__hash__' of 'object' objects>),\n",
       " Attribute(name='__init__', kind='method', defining_class=<class '__main__.Foo'>, object=<function Foo.__init__ at 0x7f9d6829fea0>),\n",
       " Attribute(name='__init_subclass__', kind='class method', defining_class=<class '__main__.Foo'>, object=<classmethod object at 0x7f9d53d82da0>),\n",
       " Attribute(name='__le__', kind='method', defining_class=<class 'object'>, object=<slot wrapper '__le__' of 'object' objects>),\n",
       " Attribute(name='__lt__', kind='method', defining_class=<class 'object'>, object=<slot wrapper '__lt__' of 'object' objects>),\n",
       " Attribute(name='__module__', kind='data', defining_class=<class '__main__.Foo'>, object='__main__'),\n",
       " Attribute(name='__ne__', kind='method', defining_class=<class 'object'>, object=<slot wrapper '__ne__' of 'object' objects>),\n",
       " Attribute(name='__new__', kind='method', defining_class=<class 'object'>, object=<built-in method __new__ of type object at 0x7d37a0>),\n",
       " Attribute(name='__reduce__', kind='method', defining_class=<class 'object'>, object=<method '__reduce__' of 'object' objects>),\n",
       " Attribute(name='__reduce_ex__', kind='method', defining_class=<class 'object'>, object=<method '__reduce_ex__' of 'object' objects>),\n",
       " Attribute(name='__repr__', kind='method', defining_class=<class 'object'>, object=<slot wrapper '__repr__' of 'object' objects>),\n",
       " Attribute(name='__setattr__', kind='method', defining_class=<class 'object'>, object=<slot wrapper '__setattr__' of 'object' objects>),\n",
       " Attribute(name='__sizeof__', kind='method', defining_class=<class 'object'>, object=<method '__sizeof__' of 'object' objects>),\n",
       " Attribute(name='__str__', kind='method', defining_class=<class 'object'>, object=<slot wrapper '__str__' of 'object' objects>),\n",
       " Attribute(name='__subclasshook__', kind='method', defining_class=<class 'object'>, object=<built-in method __subclasshook__ of type object at 0x21e5f38>),\n",
       " Attribute(name='__weakref__', kind='data', defining_class=<class '__main__.Foo'>, object=<attribute '__weakref__' of 'Foo' objects>)]"
      ]
     },
     "execution_count": 39,
     "metadata": {},
     "output_type": "execute_result"
    }
   ],
   "source": [
    "inspect.classify_class_attrs(Foo)"
   ]
  },
  {
   "cell_type": "code",
   "execution_count": 40,
   "metadata": {},
   "outputs": [
    {
     "name": "stdout",
     "output_type": "stream",
     "text": [
      "Foo __init__: <__main__.Foo object at 0x7f9d53a04cc0> () {}\n"
     ]
    },
    {
     "data": {
      "text/plain": [
       "<__main__.Foo at 0x7f9d53a04cc0>"
      ]
     },
     "execution_count": 40,
     "metadata": {},
     "output_type": "execute_result"
    }
   ],
   "source": [
    "f = Foo()\n",
    "f"
   ]
  },
  {
   "cell_type": "code",
   "execution_count": 85,
   "metadata": {},
   "outputs": [
    {
     "name": "stdout",
     "output_type": "stream",
     "text": [
      "Foo __init_subclass__: <class '__main__.Bar'> {'z': 4}\n"
     ]
    }
   ],
   "source": [
    "class Bar(Foo,z=4):\n",
    "    \n",
    "    def __init__(self,*args,**kw):\n",
    "        print('Bar __init__:',self,args,kw)\n",
    "        self.args = args\n",
    "        self.kw = kw\n",
    "        \n",
    "    @classmethod\n",
    "    def __init_subclass__(cls,**kw):\n",
    "        print('Bar __init_subclass__:',cls,kw)\n",
    "        cls.kw2 = kw"
   ]
  },
  {
   "cell_type": "code",
   "execution_count": 86,
   "metadata": {},
   "outputs": [
    {
     "name": "stdout",
     "output_type": "stream",
     "text": [
      "Bar __init__: <__main__.Bar object at 0x7f9d53db2438> () {}\n"
     ]
    },
    {
     "data": {
      "text/plain": [
       "<__main__.Bar at 0x7f9d53db2438>"
      ]
     },
     "execution_count": 86,
     "metadata": {},
     "output_type": "execute_result"
    }
   ],
   "source": [
    "b = Bar()\n",
    "b"
   ]
  },
  {
   "cell_type": "code",
   "execution_count": 91,
   "metadata": {},
   "outputs": [
    {
     "name": "stdout",
     "output_type": "stream",
     "text": [
      "Bar __init__: <__main__.Bar object at 0x7f9d53db2b70> ('Barf', (<__main__.Bar object at 0x7f9d53db2438>, <__main__.Foo object at 0x7f9d53a04cc0>), {'__module__': '__main__', '__qualname__': 'Barf'}) {'zz': 4}\n"
     ]
    }
   ],
   "source": [
    "class Barf(b,f,zz=4):\n",
    "    pass"
   ]
  },
  {
   "cell_type": "code",
   "execution_count": 79,
   "metadata": {},
   "outputs": [
    {
     "data": {
      "text/plain": [
       "<__main__.Bar at 0x7f9d682a2b00>"
      ]
     },
     "execution_count": 79,
     "metadata": {},
     "output_type": "execute_result"
    }
   ],
   "source": [
    "Barf"
   ]
  },
  {
   "cell_type": "code",
   "execution_count": 80,
   "metadata": {},
   "outputs": [
    {
     "data": {
      "text/plain": [
       "__main__.Bar"
      ]
     },
     "execution_count": 80,
     "metadata": {},
     "output_type": "execute_result"
    }
   ],
   "source": [
    "Bar"
   ]
  },
  {
   "cell_type": "code",
   "execution_count": 81,
   "metadata": {},
   "outputs": [
    {
     "name": "stdout",
     "output_type": "stream",
     "text": [
      "Foo __init_subclass__: <class '__main__.Foo'> {'q': 3}\n"
     ]
    }
   ],
   "source": [
    "f.__init_subclass__(q=3)"
   ]
  },
  {
   "cell_type": "code",
   "execution_count": 82,
   "metadata": {},
   "outputs": [
    {
     "name": "stdout",
     "output_type": "stream",
     "text": [
      "Bar __init_subclass__: <class '__main__.Z'> {}\n"
     ]
    }
   ],
   "source": [
    "class Z(Bar,Foo):\n",
    "    pass"
   ]
  },
  {
   "cell_type": "code",
   "execution_count": 102,
   "metadata": {},
   "outputs": [
    {
     "name": "stdout",
     "output_type": "stream",
     "text": [
      "fn(): (3, 4, {'__module__': '__main__', '__qualname__': 'Zap', 'a': 3, 'b': 4})\n",
      "{'__module__': '__main__', '__qualname__': 'Zap', 'a': 3, 'b': 4}\n"
     ]
    }
   ],
   "source": [
    "def fn(*arg):\n",
    "    print('fn():',arg)\n",
    "    f = inspect.currentframe()\n",
    "    print(f.f_back.f_locals)\n",
    "\n",
    "class Zap:\n",
    "    a = 3\n",
    "    b = 4\n",
    "    fn(a,b,locals())\n",
    "    d = 4"
   ]
  },
  {
   "cell_type": "code",
   "execution_count": 109,
   "metadata": {},
   "outputs": [
    {
     "name": "stdout",
     "output_type": "stream",
     "text": [
      "One __init_subclass__: <class '__main__.Two'> {}\n"
     ]
    }
   ],
   "source": [
    "class One:\n",
    "    \n",
    "    def __init__(self,*args,**kw):\n",
    "        print('One __init__:',self,args,kw)\n",
    "        self.args = args\n",
    "        self.kw = kw\n",
    "        \n",
    "    @classmethod\n",
    "    def __init_subclass__(cls,**kw):\n",
    "        print('One __init_subclass__:',cls,kw)\n",
    "        cls.kw2 = kw\n",
    "        \n",
    "class Two(One):\n",
    "    \n",
    "    def __init__(self,*args,**kw):\n",
    "        print('Two __init__:',self,args,kw)\n",
    "        self.args = args\n",
    "        self.kw = kw\n",
    "        \n",
    "    @classmethod\n",
    "    def __init_subclass__(cls,**kw):\n",
    "        print('Two __init_subclass__:',cls,kw)\n",
    "        cls.kw2 = kw"
   ]
  },
  {
   "cell_type": "code",
   "execution_count": 110,
   "metadata": {},
   "outputs": [
    {
     "name": "stdout",
     "output_type": "stream",
     "text": [
      "One __init__: <__main__.One object at 0x7f9d53db2a20> () {}\n",
      "Two __init__: <__main__.Two object at 0x7f9d53db26d8> () {}\n"
     ]
    }
   ],
   "source": [
    "o = One()\n",
    "t = Two()"
   ]
  },
  {
   "cell_type": "code",
   "execution_count": 112,
   "metadata": {},
   "outputs": [
    {
     "name": "stdout",
     "output_type": "stream",
     "text": [
      "Two __init__: <__main__.Two object at 0x7f9d53db2c50> ('Three', (<__main__.One object at 0x7f9d53db2a20>, <__main__.Two object at 0x7f9d53db26d8>), {'__module__': '__main__', '__qualname__': 'Three'}) {}\n"
     ]
    }
   ],
   "source": [
    "class Three(o,t):\n",
    "    pass"
   ]
  },
  {
   "cell_type": "code",
   "execution_count": null,
   "metadata": {},
   "outputs": [],
   "source": []
  }
 ],
 "metadata": {
  "kernelspec": {
   "display_name": "Python 3",
   "language": "python",
   "name": "python3"
  },
  "language_info": {
   "codemirror_mode": {
    "name": "ipython",
    "version": 3
   },
   "file_extension": ".py",
   "mimetype": "text/x-python",
   "name": "python",
   "nbconvert_exporter": "python",
   "pygments_lexer": "ipython3",
   "version": "3.6.8"
  }
 },
 "nbformat": 4,
 "nbformat_minor": 2
}
