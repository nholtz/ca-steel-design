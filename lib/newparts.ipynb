{
 "cells": [
  {
   "cell_type": "code",
   "execution_count": 1,
   "metadata": {},
   "outputs": [],
   "source": [
    "import Designer\n",
    "_get = Designer._get"
   ]
  },
  {
   "cell_type": "code",
   "execution_count": 89,
   "metadata": {},
   "outputs": [],
   "source": [
    "class Part(object):\n",
    "    \n",
    "    def __init__(self,_doc='',**keywd):\n",
    "        self._doc = _doc\n",
    "        self.set(**keywd)\n",
    "            \n",
    "    def set(self,**keywd):\n",
    "        for k,v in keywd.items():\n",
    "            setattr(self,k,v)\n",
    "            \n",
    "    def setfrom(self,keys,*others):\n",
    "        keys = set([k.strip() for k in keys.split(',')])\n",
    "        for other in others:\n",
    "            for k,v in other.vars().items():\n",
    "                if k in keys:\n",
    "                    setattr(self,k,v)\n",
    "\n",
    "    def inherit(self,keys,*others):\n",
    "        if type(keys) == type(''):\n",
    "            keys = set([k.strip() for k in keys.split(',')])\n",
    "        else:\n",
    "            others = (keys,) + others\n",
    "            keys = None\n",
    "        for other in others:\n",
    "            for k,v in other.vars().items():\n",
    "                if not hasattr(self,k):\n",
    "                    if keys is None or k in keys:\n",
    "                        setattr(self,k,v)\n",
    "\n",
    "    def get(self,keys):\n",
    "        return _get(self.vars(),keys)\n",
    "    \n",
    "    def vars(self):\n",
    "        return vars(self)\n",
    "    \n",
    "    def __getitem__(self,keys):\n",
    "        return self.get(keys)\n",
    "    \n",
    "    def __add__(self,other):\n",
    "        return PartSet(self,other)\n",
    "\n",
    "class PartSet(object):\n",
    "    \n",
    "    def __init__(self,*all):\n",
    "        self.parts = []\n",
    "        for p in all:\n",
    "            if type(p) in [list,tuple]:\n",
    "                for pp in p:\n",
    "                    self.addpart(pp)\n",
    "                continue\n",
    "            if type(p) is self.__class__:\n",
    "                for pp in p.parts:\n",
    "                    self.addpart(pp)\n",
    "                continue\n",
    "            self.addpart(p)\n",
    "            \n",
    "    def addpart(self,part):\n",
    "        if type(part) is Part:\n",
    "            if part not in self.parts:\n",
    "                self.parts.append(part)\n",
    "            return\n",
    "        raise TypeError('Invalid part type: \"{}\"'.format(part))\n",
    "        \n",
    "    def vars(self):\n",
    "        ans = {}\n",
    "        for p in self.parts:\n",
    "            ans.update(p.vars())\n",
    "        return ans\n",
    "    \n",
    "    def get(self,keys):\n",
    "        return _get(self.vars(),keys)\n",
    "    \n",
    "    def __getitem__(self,keys):\n",
    "        return self.get(keys)    \n",
    "    \n",
    "    def __add__(self,other):\n",
    "        return self.__class__(self.parts,other)"
   ]
  },
  {
   "cell_type": "code",
   "execution_count": 101,
   "metadata": {},
   "outputs": [
    {
     "data": {
      "text/plain": [
       "{'_doc': 'A Bolt', 'l': 13, 'q': 30, 'size': '3/4', 'type': 'A325', 'x': 47}"
      ]
     },
     "execution_count": 101,
     "metadata": {},
     "output_type": "execute_result"
    }
   ],
   "source": [
    "Bolt = Part('A Bolt',size='3/4',type='A325',q=30)\n",
    "Bolt.set( l=13, x=47)\n",
    "vars(Bolt)"
   ]
  },
  {
   "cell_type": "code",
   "execution_count": 104,
   "metadata": {},
   "outputs": [
    {
     "data": {
      "text/plain": [
       "{'_doc': 'A nother', 'l': 13, 'type': 'A490', 'x': 47}"
      ]
     },
     "execution_count": 104,
     "metadata": {},
     "output_type": "execute_result"
    }
   ],
   "source": [
    "Nother = Part('A nother',type='A490',l=1,x=1)\n",
    "Nother.setfrom('x,l',Bolt)\n",
    "vars(Nother)"
   ]
  },
  {
   "cell_type": "code",
   "execution_count": 105,
   "metadata": {},
   "outputs": [
    {
     "data": {
      "text/plain": [
       "{'_doc': 'A nother', 'l': 13, 'q': 30, 'size': '3/4', 'type': 'A490', 'x': 47}"
      ]
     },
     "execution_count": 105,
     "metadata": {},
     "output_type": "execute_result"
    }
   ],
   "source": [
    "Nother.inherit(Bolt)\n",
    "Nother.vars()"
   ]
  },
  {
   "cell_type": "code",
   "execution_count": 92,
   "metadata": {},
   "outputs": [
    {
     "data": {
      "text/plain": [
       "[47, 13, 40, 4.333333333333333]"
      ]
     },
     "execution_count": 92,
     "metadata": {},
     "output_type": "execute_result"
    }
   ],
   "source": [
    "Bolt['x,l=40,z=40,l/3']"
   ]
  },
  {
   "cell_type": "code",
   "execution_count": 93,
   "metadata": {},
   "outputs": [],
   "source": [
    "ps = PartSet((Nother,Bolt),Part(q=113.5))"
   ]
  },
  {
   "cell_type": "code",
   "execution_count": 94,
   "metadata": {},
   "outputs": [
    {
     "data": {
      "text/plain": [
       "['3/4', 113.5, 'A325']"
      ]
     },
     "execution_count": 94,
     "metadata": {},
     "output_type": "execute_result"
    }
   ],
   "source": [
    "ps['size,q,type']"
   ]
  },
  {
   "cell_type": "code",
   "execution_count": 95,
   "metadata": {},
   "outputs": [
    {
     "data": {
      "text/plain": [
       "['3/4', 113.5, 'A490']"
      ]
     },
     "execution_count": 95,
     "metadata": {},
     "output_type": "execute_result"
    }
   ],
   "source": [
    "ps2 = PartSet(Part(q=113.5),Bolt,Nother)\n",
    "ps2['size,q,type']"
   ]
  },
  {
   "cell_type": "code",
   "execution_count": 96,
   "metadata": {},
   "outputs": [
    {
     "data": {
      "text/plain": [
       "<__main__.PartSet at 0x7f1922bba2b0>"
      ]
     },
     "execution_count": 96,
     "metadata": {},
     "output_type": "execute_result"
    }
   ],
   "source": [
    "Nother+(Bolt+[Nother,Part(q=111)])"
   ]
  },
  {
   "cell_type": "code",
   "execution_count": null,
   "metadata": {},
   "outputs": [],
   "source": []
  }
 ],
 "metadata": {
  "kernelspec": {
   "display_name": "Python 3",
   "language": "python",
   "name": "python3"
  },
  "language_info": {
   "codemirror_mode": {
    "name": "ipython",
    "version": 3
   },
   "file_extension": ".py",
   "mimetype": "text/x-python",
   "name": "python",
   "nbconvert_exporter": "python",
   "pygments_lexer": "ipython3",
   "version": "3.6.7"
  }
 },
 "nbformat": 4,
 "nbformat_minor": 2
}
