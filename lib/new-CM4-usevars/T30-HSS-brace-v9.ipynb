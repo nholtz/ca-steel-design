{
 "cells": [
  {
   "cell_type": "markdown",
   "metadata": {},
   "source": [
    "# Example T30 v6: HSS Brace Analysis\n",
    "The photo shows the end details of a typical brace in a 4-storey steel structure.  This was photographed in Ottawa, in September, 2015.\n",
    "\n",
    "This notebook shows the computations necessary to compute the factored tension resistance, $T_r$, for a similar brace.  **Note**, all of the dimensions and properties were invented by the author of this notebook; no attempt has been made to have an accurate model of the real structure."
   ]
  },
  {
   "cell_type": "code",
   "execution_count": 1,
   "metadata": {},
   "outputs": [],
   "source": [
    "from Designer import Part, DesignNotes, SST\n",
    "import math\n",
    "sind = lambda deg: math.sin(math.radians(deg))  # return sin of angle expressed in degrees\n",
    "cosd = lambda deg: math.cos(math.radians(deg))  # return cos of angle expressed in degrees"
   ]
  },
  {
   "cell_type": "code",
   "execution_count": 2,
   "metadata": {},
   "outputs": [
    {
     "ename": "FileNotFoundError",
     "evalue": "Unable to display file 'brace.jpg'. Tried: ./brace.jpg",
     "output_type": "error",
     "traceback": [
      "\u001b[0;31m---------------------------------------------------------------------------\u001b[0m",
      "\u001b[0;31mFileNotFoundError\u001b[0m                         Traceback (most recent call last)",
      "\u001b[0;32m<ipython-input-2-28b0e749c37a>\u001b[0m in \u001b[0;36m<module>\u001b[0;34m\u001b[0m\n\u001b[0;32m----> 1\u001b[0;31m \u001b[0mget_ipython\u001b[0m\u001b[0;34m(\u001b[0m\u001b[0;34m)\u001b[0m\u001b[0;34m.\u001b[0m\u001b[0mrun_line_magic\u001b[0m\u001b[0;34m(\u001b[0m\u001b[0;34m'figure'\u001b[0m\u001b[0;34m,\u001b[0m \u001b[0;34m'\"brace.jpg\"'\u001b[0m\u001b[0;34m)\u001b[0m\u001b[0;34m\u001b[0m\u001b[0;34m\u001b[0m\u001b[0m\n\u001b[0m",
      "\u001b[0;32m/usr/local/lib/python3.7/dist-packages/IPython/core/interactiveshell.py\u001b[0m in \u001b[0;36mrun_line_magic\u001b[0;34m(self, magic_name, line, _stack_depth)\u001b[0m\n\u001b[1;32m   2315\u001b[0m                 \u001b[0mkwargs\u001b[0m\u001b[0;34m[\u001b[0m\u001b[0;34m'local_ns'\u001b[0m\u001b[0;34m]\u001b[0m \u001b[0;34m=\u001b[0m \u001b[0msys\u001b[0m\u001b[0;34m.\u001b[0m\u001b[0m_getframe\u001b[0m\u001b[0;34m(\u001b[0m\u001b[0mstack_depth\u001b[0m\u001b[0;34m)\u001b[0m\u001b[0;34m.\u001b[0m\u001b[0mf_locals\u001b[0m\u001b[0;34m\u001b[0m\u001b[0;34m\u001b[0m\u001b[0m\n\u001b[1;32m   2316\u001b[0m             \u001b[0;32mwith\u001b[0m \u001b[0mself\u001b[0m\u001b[0;34m.\u001b[0m\u001b[0mbuiltin_trap\u001b[0m\u001b[0;34m:\u001b[0m\u001b[0;34m\u001b[0m\u001b[0;34m\u001b[0m\u001b[0m\n\u001b[0;32m-> 2317\u001b[0;31m                 \u001b[0mresult\u001b[0m \u001b[0;34m=\u001b[0m \u001b[0mfn\u001b[0m\u001b[0;34m(\u001b[0m\u001b[0;34m*\u001b[0m\u001b[0margs\u001b[0m\u001b[0;34m,\u001b[0m \u001b[0;34m**\u001b[0m\u001b[0mkwargs\u001b[0m\u001b[0;34m)\u001b[0m\u001b[0;34m\u001b[0m\u001b[0;34m\u001b[0m\u001b[0m\n\u001b[0m\u001b[1;32m   2318\u001b[0m             \u001b[0;32mreturn\u001b[0m \u001b[0mresult\u001b[0m\u001b[0;34m\u001b[0m\u001b[0;34m\u001b[0m\u001b[0m\n\u001b[1;32m   2319\u001b[0m \u001b[0;34m\u001b[0m\u001b[0m\n",
      "\u001b[0;32m/files/work/Active/ca-steel-design/lib/utils.py\u001b[0m in \u001b[0;36mfigure\u001b[0;34m(filename)\u001b[0m\n\u001b[1;32m    135\u001b[0m             \u001b[0;32mreturn\u001b[0m \u001b[0m_display\u001b[0m\u001b[0;34m(\u001b[0m\u001b[0mpathname\u001b[0m\u001b[0;34m)\u001b[0m\u001b[0;34m\u001b[0m\u001b[0;34m\u001b[0m\u001b[0m\n\u001b[1;32m    136\u001b[0m \u001b[0;34m\u001b[0m\u001b[0m\n\u001b[0;32m--> 137\u001b[0;31m     \u001b[0;32mraise\u001b[0m \u001b[0mFileNotFoundError\u001b[0m\u001b[0;34m(\u001b[0m\u001b[0;34mf\"Unable to display file '{filename}'. Tried: \"\u001b[0m\u001b[0;34m+\u001b[0m\u001b[0;34m', '\u001b[0m\u001b[0;34m.\u001b[0m\u001b[0mjoin\u001b[0m\u001b[0;34m(\u001b[0m\u001b[0;34m[\u001b[0m\u001b[0mos\u001b[0m\u001b[0;34m.\u001b[0m\u001b[0mpath\u001b[0m\u001b[0;34m.\u001b[0m\u001b[0mjoin\u001b[0m\u001b[0;34m(\u001b[0m\u001b[0mx\u001b[0m\u001b[0;34m,\u001b[0m\u001b[0mfilename\u001b[0m\u001b[0;34m)\u001b[0m \u001b[0;32mfor\u001b[0m \u001b[0mx\u001b[0m \u001b[0;32min\u001b[0m \u001b[0m__FIGPATH\u001b[0m\u001b[0;34m]\u001b[0m\u001b[0;34m)\u001b[0m\u001b[0;34m)\u001b[0m\u001b[0;34m\u001b[0m\u001b[0;34m\u001b[0m\u001b[0m\n\u001b[0m\u001b[1;32m    138\u001b[0m \u001b[0;34m\u001b[0m\u001b[0m\n\u001b[1;32m    139\u001b[0m \u001b[0;34m\u001b[0m\u001b[0m\n",
      "\u001b[0;31mFileNotFoundError\u001b[0m: Unable to display file 'brace.jpg'. Tried: ./brace.jpg"
     ]
    }
   ],
   "source": [
    "%figure \"brace.jpg\""
   ]
  },
  {
   "cell_type": "markdown",
   "metadata": {},
   "source": [
    "![Overall Sketch](brace-sketch.svg)"
   ]
  },
  {
   "cell_type": "markdown",
   "metadata": {},
   "source": [
    "**Setup the units system**"
   ]
  },
  {
   "cell_type": "code",
   "execution_count": 3,
   "metadata": {},
   "outputs": [],
   "source": [
    "import pint                  # setup to use the module for computing with units\n",
    "ureg = pint.UnitRegistry()\n",
    "mm = ureg['mm']              # define symbols for the units used below\n",
    "inch = ureg['inch']\n",
    "kN = ureg['kN']\n",
    "MPa = ureg['MPa']\n",
    "ureg.default_format = '~P'"
   ]
  },
  {
   "cell_type": "markdown",
   "metadata": {},
   "source": [
    "The various $\\phi$ values used below:"
   ]
  },
  {
   "cell_type": "code",
   "execution_count": 4,
   "metadata": {},
   "outputs": [],
   "source": [
    "phiw = 0.67    # S16-14 13.1\n",
    "phiu = 0.75\n",
    "phib = 0.80\n",
    "phibr = 0.80\n",
    "phi = 0.90"
   ]
  },
  {
   "cell_type": "code",
   "execution_count": 5,
   "metadata": {},
   "outputs": [],
   "source": [
    "notes = DesignNotes('Tr',title='Typical HSS Cross Brace',units=kN)\n",
    "\n",
    "# useful abbreviations:\n",
    "REQUIRE = notes.require       # a requirement\n",
    "CHECK = notes.check           # a check\n",
    "#RECORD = notes.record         # record calculation details\n",
    "#SETVARS = notes.setvars       # extract attribute values as variables\n",
    "USEVARS = notes.usevars\n",
    "def DATA(var,label,*items,**kwds):\n",
    "    return USEVARS(*items,record=var,label=label,**kwds)"
   ]
  },
  {
   "cell_type": "markdown",
   "metadata": {},
   "source": [
    "## Design Parameters\n",
    "Most of the design parameters from the above figure are defined here.  A few are augmented or defined below where there are more detailed figures available."
   ]
  },
  {
   "cell_type": "code",
   "execution_count": 6,
   "metadata": {},
   "outputs": [],
   "source": [
    "class Bolts(Part):\n",
    "    'Bolts'   # bolt group is the same on the tongue plate and on the gusset plate.\n",
    "    grade = 'ASTM A325'\n",
    "    size = '3/4\"'\n",
    "    Fu = 825*MPa\n",
    "    d = (3/4*inch).to(mm)\n",
    "    hole_type = 'punched'\n",
    "    hd = 22*mm            # hole diameter\n",
    "    ha = hd + 2*mm        # hole allowance\n",
    "    threads_intercepted = True\n",
    "    nlines = 2            # a line is perpendicular to load\n",
    "    nperline = 3          # number of bolts in each line\n",
    "    g = 75*mm             # gauge (perpendicular to load)\n",
    "    s = 75*mm             # spacing (parallel to load)\n",
    "\n",
    "class Welds(Part):\n",
    "    'Welds'\n",
    "    grade = 'E49xx'\n",
    "    Xu = 490*MPa\n",
    "    matching = True\n",
    "\n",
    "class Plates(Part):\n",
    "    'Plates'\n",
    "    grade = 'CSA G40.21 350W'\n",
    "    Fy = 350*MPa\n",
    "    Fu = 450*MPa\n",
    "\n",
    "class HSS(Part):\n",
    "    'HSS Column'\n",
    "    grade = 'CSA G40.21 350W'\n",
    "    Fy = 350*MPa\n",
    "    Fu = 450*MPa\n",
    "    size = 'HS127x127x13'\n",
    "    D,T,A = SST.section(size,'D,T,A')\n",
    "    D = D*mm\n",
    "    T = T*mm\n",
    "    A = A*mm*mm    \n",
    "\n",
    "class CoverPlate(Plates):\n",
    "    'Cover Plate'\n",
    "    T = 10*mm\n",
    "    W = 60*mm\n",
    "    Lw = 90*mm      # length of weld from net section to end of HSS\n",
    "    D = 6*mm        # size of weld from on HSS.\n",
    "   \n",
    "class TonguePlate(Plates):\n",
    "    'Tongue Plate'\n",
    "    T = 20*mm\n",
    "    W = 280*mm\n",
    "    L = 260*mm\n",
    "    e = 40*mm\n",
    "    D = 8*mm       # weld size\n",
    "    c = 45*mm      # dist end of weld to 1st bolt line  \n",
    "    Lw = L - (c + (Bolts.nlines-1)*Bolts.s + e)\n",
    "    Dh = SST.section(HSS.size,'D')*mm\n",
    "    ns = 10\n",
    "\n",
    "class GussetPlate(Plates): \n",
    "    'Gusset Plate'\n",
    "    T,W = TonguePlate.values('T,W')\n",
    "    W2 = 110*mm\n",
    "    e = 40*mm    # end distance\n",
    "    D = 8*mm     # plate to column weld size\n",
    "    theta = 45. "
   ]
  },
  {
   "cell_type": "markdown",
   "metadata": {},
   "source": [
    "## Bolting and Welding Details\n",
    "\n",
    "TBD: Here we should check all spacings, edge distances, etc."
   ]
  },
  {
   "cell_type": "markdown",
   "metadata": {},
   "source": [
    "## Gusset Plate\n",
    "![Gusset Plate Details](gusset-details.svg)"
   ]
  },
  {
   "cell_type": "markdown",
   "metadata": {},
   "source": [
    "### Gusset to HSS Weld"
   ]
  },
  {
   "cell_type": "code",
   "execution_count": 7,
   "metadata": {},
   "outputs": [
    {
     "name": "stdout",
     "output_type": "stream",
     "text": [
      "W     = 280       mm\n",
      "W2    = 110       mm\n",
      "theta = 45        \n",
      "D     = 8         mm\n",
      "Xu    = 490       MPa\n",
      "L     = 506       mm\n",
      "L1    = 308       mm\n",
      "Mw    = 1         \n",
      "Aw    = 5724      mm²\n",
      "Vr    = 2.008e+06 MPa·mm²\n"
     ]
    },
    {
     "data": {
      "text/plain": [
       "\n",
       "    Gusset to HSS Weld: Tr = 2008 kN"
      ]
     },
     "metadata": {},
     "output_type": "display_data"
    }
   ],
   "source": [
    "with DATA('Vr','Gusset to HSS Weld',\n",
    "          ('W,W2,theta,D',GussetPlate),\n",
    "          ('Xu',Welds),\n",
    "          locals='L,L1,Mw,Aw'):\n",
    "    L1 = W2+W*cosd(theta)\n",
    "    L = (L1/sind(theta))*cosd(theta) + W*sind(theta)\n",
    "\n",
    "    Mw = 1.0                  \n",
    "    Aw = 2*L*.707*D\n",
    "    Vr = 0.67*phiw*Aw*Xu*(1+sind(theta)**1.5)*Mw     # S16-14: 13.13.2.2"
   ]
  },
  {
   "cell_type": "markdown",
   "metadata": {},
   "source": [
    "### Gusset Block Shear\n",
    "Because the gusset must be the same thickness as the tongue, and as the edges align so they are the\n",
    "same width (mostly), the block shear strengths determined here should be the same.  So this section is not\n",
    "really necessary.  The tongue does have one more pattern (Pattern 3)) that is judged not applicable\n",
    "here because of the increased width of the gusset.\n",
    "#### Block Shear Case 1)"
   ]
  },
  {
   "cell_type": "code",
   "execution_count": 8,
   "metadata": {},
   "outputs": [
    {
     "name": "stdout",
     "output_type": "stream",
     "text": [
      "nlines   = 2         \n",
      "nperline = 3         \n",
      "g        = 75        mm\n",
      "s        = 75        mm\n",
      "ha       = 24        mm\n",
      "W        = 280       mm\n",
      "e        = 40        mm\n",
      "T        = 20        mm\n",
      "Fy       = 350       MPa\n",
      "Fu       = 450       MPa\n",
      "An       = 2040      mm²\n",
      "Agv      = 4600      mm²\n",
      "Ut       = 1         \n",
      "Vr       = 1.516e+06 MPa·mm²\n"
     ]
    },
    {
     "data": {
      "text/plain": [
       "\n",
       "    Gusset Block Shear Case 1): Tr = 1516 kN"
      ]
     },
     "metadata": {},
     "output_type": "display_data"
    }
   ],
   "source": [
    "with DATA('Vr','Gusset Block Shear Case 1)',\n",
    "          ('nlines,nperline,g,s,ha',Bolts), \n",
    "          ('W,e,T,Fy,Fu',GussetPlate), \n",
    "          locals='An,Agv,Ut'):\n",
    "    An = T*((nperline-1)*g - (nperline-1)*ha)\n",
    "    Agv = 2*T*((nlines-1)*s + e)\n",
    "    Ut = 1.0\n",
    "    Vr = phiu*(Ut*An*Fu + 0.6*Agv*(Fy+Fu)/2.)     # S16-14: 13.2 a) ii) & 13.11"
   ]
  },
  {
   "cell_type": "markdown",
   "metadata": {},
   "source": [
    "#### Block Shear Case 2)"
   ]
  },
  {
   "cell_type": "code",
   "execution_count": 9,
   "metadata": {},
   "outputs": [
    {
     "name": "stdout",
     "output_type": "stream",
     "text": [
      "nlines   = 2         \n",
      "nperline = 3         \n",
      "g        = 75        mm\n",
      "s        = 75        mm\n",
      "ha       = 24        mm\n",
      "W        = 280       mm\n",
      "e        = 40        mm\n",
      "T        = 20        mm\n",
      "Fy       = 350       MPa\n",
      "Fu       = 450       MPa\n",
      "edge     = 65        mm\n",
      "Ut       = 0.8       \n",
      "An       = 3100      mm²\n",
      "Agv      = 2300      mm²\n",
      "Vr       = 1.251e+06 MPa·mm²\n"
     ]
    },
    {
     "data": {
      "text/plain": [
       "\n",
       "    Gusset Block Shear Case 2): Tr = 1251 kN"
      ]
     },
     "metadata": {},
     "output_type": "display_data"
    }
   ],
   "source": [
    "with DATA('Vr','Gusset Block Shear Case 2)',\n",
    "          ('nlines,nperline,g,s,ha',Bolts),\n",
    "          ('W,e,T,Fy,Fu',GussetPlate),\n",
    "          locals='edge,Ut,An,Agv'):\n",
    "    edge = (W - (nperline-1)*g)/2.\n",
    "    An = (((nperline-1)*g+edge)-(nperline-0.5)*ha)*T\n",
    "    Agv = T*((nlines-1)*s + e)\n",
    "    Ut = 0.8\n",
    "    Vr = phiu*(Ut*An*Fu + 0.6*Agv*(Fy+Fu)/2.)    # S16-14: 13.2 a) ii) & 13.11"
   ]
  },
  {
   "cell_type": "markdown",
   "metadata": {},
   "source": [
    "#### Tearout"
   ]
  },
  {
   "cell_type": "code",
   "execution_count": 10,
   "metadata": {},
   "outputs": [
    {
     "name": "stdout",
     "output_type": "stream",
     "text": [
      "nlines   = 2         \n",
      "nperline = 3         \n",
      "s        = 75        mm\n",
      "e        = 40        mm\n",
      "T        = 20        mm\n",
      "Fy       = 350       MPa\n",
      "Fu       = 450       MPa\n",
      "Agv      = 13800     mm²\n",
      "Vr       = 2.484e+06 MPa·mm²\n"
     ]
    },
    {
     "data": {
      "text/plain": [
       "\n",
       "    Gusset tearout: Tr = 2484 kN"
      ]
     },
     "metadata": {},
     "output_type": "display_data"
    }
   ],
   "source": [
    "with DATA('Vr','Gusset tearout',\n",
    "          ('nlines,nperline,s',Bolts),\n",
    "          ('e,T,Fy,Fu',GussetPlate),\n",
    "          locals='Agv'):\n",
    "    Agv = T*((nlines-1)*s + e) * nperline * 2\n",
    "    Vr = phiu * 0.6*Agv*(Fy+Fu)/2.               # S16-14: 13.2 a) ii) & 13.11"
   ]
  },
  {
   "cell_type": "markdown",
   "metadata": {},
   "source": [
    "## Lap Plates (2)\n",
    "### Lap Plate Details\n",
    "Consider the thickness of both plates together when computing the resistance.\n",
    "As the plate is symmetric, we only have to investigate one end.\n",
    "\n",
    "![Lap Plate Details](lap-plate-details.svg)"
   ]
  },
  {
   "cell_type": "code",
   "execution_count": 11,
   "metadata": {},
   "outputs": [],
   "source": [
    "class LapPlates(Plates):\n",
    "    'Lap Plates'\n",
    "    W = 230*mm\n",
    "    L = 315*mm\n",
    "    T = 10*mm*2.      # thickness, include 2 plates\n",
    "    e = 40*mm         # could be different than gusset"
   ]
  },
  {
   "cell_type": "markdown",
   "metadata": {},
   "source": [
    "### Lap Plates: Gross Section Yield"
   ]
  },
  {
   "cell_type": "code",
   "execution_count": 12,
   "metadata": {},
   "outputs": [
    {
     "name": "stdout",
     "output_type": "stream",
     "text": [
      "W     = 230       mm\n",
      "T     = 20        mm\n",
      "Fy    = 350       MPa\n",
      "Ag    = 4600      mm²\n",
      "Tr    = 1.449e+06 MPa·mm²\n"
     ]
    },
    {
     "data": {
      "text/plain": [
       "\n",
       "    Lap Plates, Gross Yield: Tr = 1449 kN"
      ]
     },
     "metadata": {},
     "output_type": "display_data"
    }
   ],
   "source": [
    "with DATA('Tr','Lap Plates, Gross Yield', ('W,T,Fy',LapPlates), locals='Ag'):\n",
    "    Ag = W*T\n",
    "    Tr = phi*Ag*Fy          # S16-14: 13.2 a) i)"
   ]
  },
  {
   "cell_type": "markdown",
   "metadata": {},
   "source": [
    "### Lap Plates: Net Section Fracture"
   ]
  },
  {
   "cell_type": "code",
   "execution_count": 13,
   "metadata": {},
   "outputs": [
    {
     "name": "stdout",
     "output_type": "stream",
     "text": [
      "W        = 230       mm\n",
      "T        = 20        mm\n",
      "Fu       = 450       MPa\n",
      "nperline = 3         \n",
      "ha       = 24        mm\n",
      "wn       = 158       mm\n",
      "Ane      = 3160      mm²\n",
      "Tr       = 1.066e+06 MPa·mm²\n"
     ]
    },
    {
     "data": {
      "text/plain": [
       "\n",
       "    Lap Plates, Net Fracture: Tr = 1066 kN"
      ]
     },
     "metadata": {},
     "output_type": "display_data"
    }
   ],
   "source": [
    "with DATA('Tr','Lap Plates, Net Fracture', \n",
    "          ('W,T,Fu',LapPlates),\n",
    "          ('nperline,ha',Bolts),\n",
    "          locals='wn,Ane'):\n",
    "    wn = W - nperline*ha\n",
    "    Ane = An = wn*T\n",
    "    Tr = phiu*Ane*Fu          # S16-14: 13.2 a) iii)"
   ]
  },
  {
   "cell_type": "markdown",
   "metadata": {},
   "source": [
    "### Lap Plates: Block Shear\n",
    "#### Block Shear Case 1)"
   ]
  },
  {
   "cell_type": "code",
   "execution_count": 14,
   "metadata": {},
   "outputs": [
    {
     "name": "stdout",
     "output_type": "stream",
     "text": [
      "T        = 20        mm\n",
      "e        = 40        mm\n",
      "W        = 230       mm\n",
      "Fy       = 350       MPa\n",
      "Fu       = 450       MPa\n",
      "ha       = 24        mm\n",
      "nperline = 3         \n",
      "nlines   = 2         \n",
      "s        = 75        mm\n",
      "g        = 75        mm\n",
      "An       = 2040      mm²\n",
      "Agv      = 4600      mm²\n",
      "Ut       = 1         \n",
      "Vr       = 1.516e+06 MPa·mm²\n"
     ]
    },
    {
     "data": {
      "text/plain": [
       "\n",
       "    Lap Plates, Block Shear Case 1): Tr = 1516 kN"
      ]
     },
     "metadata": {},
     "output_type": "display_data"
    }
   ],
   "source": [
    "with DATA('Vr','Lap Plates, Block Shear Case 1)',\n",
    "          ('T,e,W,Fy,Fu',LapPlates),\n",
    "          ('ha,nperline,nlines,s,g',Bolts),\n",
    "          locals='An,Agv,Ut'):\n",
    "    An = ((nperline-1)*g - (nperline-1)*ha)*T\n",
    "    Agv = (e + (nlines-1)*s)*T*2\n",
    "    Ut = 1.0\n",
    "    Vr = phiu*(Ut*An*Fu + 0.6*Agv*(Fy+Fu)/2.)        # S16-14: 13.2 a) ii) & 13.11"
   ]
  },
  {
   "cell_type": "markdown",
   "metadata": {},
   "source": [
    "#### Case 2)"
   ]
  },
  {
   "cell_type": "code",
   "execution_count": 15,
   "metadata": {},
   "outputs": [
    {
     "name": "stdout",
     "output_type": "stream",
     "text": [
      "T        = 20        mm\n",
      "e        = 40        mm\n",
      "W        = 230       mm\n",
      "Fy       = 350       MPa\n",
      "Fu       = 450       MPa\n",
      "ha       = 24        mm\n",
      "nperline = 3         \n",
      "nlines   = 2         \n",
      "s        = 75        mm\n",
      "g        = 75        mm\n",
      "edge     = 40        mm\n",
      "An       = 2600      mm²\n",
      "Agv      = 2300      mm²\n",
      "Ut       = 0.8       \n",
      "Vr       = 1.116e+06 MPa·mm²\n"
     ]
    },
    {
     "data": {
      "text/plain": [
       "\n",
       "    Lap Plates, Block Shear Case 2): Tr = 1116 kN"
      ]
     },
     "metadata": {},
     "output_type": "display_data"
    }
   ],
   "source": [
    "with DATA('Vr','Lap Plates, Block Shear Case 2)',\n",
    "          ('T,e,W,Fy,Fu',LapPlates), \n",
    "          ('ha,nperline,nlines,s,g',Bolts), \n",
    "          locals='edge,An,Agv,Ut'):\n",
    "    edge = (W - (nperline-1)*g)/2.0\n",
    "    An = (W - (edge-ha/2) - nperline*ha)*T\n",
    "    Agv = (e + (nlines-1)*s)*T\n",
    "    Ut = 0.8\n",
    "    Vr = phiu*(Ut*An*Fu + 0.6*Agv*(Fy+Fu)/2.)       # S16-14: 13.2 a) ii) & 13.11"
   ]
  },
  {
   "cell_type": "markdown",
   "metadata": {},
   "source": [
    "#### Case 3)"
   ]
  },
  {
   "cell_type": "code",
   "execution_count": 16,
   "metadata": {},
   "outputs": [
    {
     "name": "stdout",
     "output_type": "stream",
     "text": [
      "T        = 20        mm\n",
      "e        = 40        mm\n",
      "W        = 230       mm\n",
      "Fy       = 350       MPa\n",
      "Fu       = 450       MPa\n",
      "ha       = 24        mm\n",
      "nperline = 3         \n",
      "nlines   = 2         \n",
      "s        = 75        mm\n",
      "g        = 75        mm\n",
      "An       = 2140      mm²\n",
      "Agv      = 4600      mm²\n",
      "Ut       = 0.6       \n",
      "Vr       = 1.261e+06 MPa·mm²\n"
     ]
    },
    {
     "data": {
      "text/plain": [
       "\n",
       "    Lap Plates, Block Shear Case 3): Tr = 1261 kN"
      ]
     },
     "metadata": {},
     "output_type": "display_data"
    }
   ],
   "source": [
    "with DATA('Vr','Lap Plates, Block Shear Case 3)',\n",
    "          ('T,e,W,Fy,Fu',LapPlates), \n",
    "          ('ha,nperline,nlines,s,g',Bolts), \n",
    "          locals='An,Agv,Ut'):\n",
    "    An = (W - nperline*ha - (g-ha))*T\n",
    "    Agv = (e + (nlines-1)*s)*T * 2.\n",
    "    Ut = 0.6\n",
    "    Vr = phiu*(Ut*An*Fu + 0.6*Agv*(Fy+Fu)/2.)        # S16-14: 13.2 a) ii) & 13.11"
   ]
  },
  {
   "cell_type": "markdown",
   "metadata": {},
   "source": [
    "#### Tearout"
   ]
  },
  {
   "cell_type": "code",
   "execution_count": 17,
   "metadata": {},
   "outputs": [
    {
     "name": "stdout",
     "output_type": "stream",
     "text": [
      "T        = 20        mm\n",
      "e        = 40        mm\n",
      "W        = 230       mm\n",
      "Fy       = 350       MPa\n",
      "Fu       = 450       MPa\n",
      "ha       = 24        mm\n",
      "nperline = 3         \n",
      "nlines   = 2         \n",
      "s        = 75        mm\n",
      "g        = 75        mm\n",
      "Agv      = 13800     mm²\n",
      "An       = 0         mm²\n",
      "Ut       = 1         \n",
      "Vr       = 2.484e+06 MPa·mm²\n"
     ]
    },
    {
     "data": {
      "text/plain": [
       "\n",
       "    Lap Plates, tearout: Tr = 2484 kN"
      ]
     },
     "metadata": {},
     "output_type": "display_data"
    }
   ],
   "source": [
    "with DATA('Vr','Lap Plates, tearout',\n",
    "          ('T,e,W,Fy,Fu',LapPlates), \n",
    "          ('ha,nperline,nlines,s,g',Bolts), \n",
    "          locals='Agv,An,Ut'):\n",
    "    An = 0*mm*mm\n",
    "    Agv = (e + (nlines-1)*s)*T*2*nperline\n",
    "    Ut = 1\n",
    "    Vr = phiu*(Ut*An*Fu + 0.6*Agv*(Fy+Fu)/2.)        # S16-14: 13.2 a) ii) & 13.11"
   ]
  },
  {
   "cell_type": "markdown",
   "metadata": {},
   "source": [
    "## Tongue Plate\n",
    "### Tongue Plate Details\n",
    "![Tongue Plate Details](tongue-plate-details.svg)"
   ]
  },
  {
   "cell_type": "code",
   "execution_count": 18,
   "metadata": {},
   "outputs": [],
   "source": [
    "class TonguePlate(TonguePlate):\n",
    "    D = 8*mm       # weld size\n",
    "    c = 45*mm      # dist end of weld to 1st bolt line  \n",
    "    Lw = TonguePlate.L - (c + (Bolts.nlines-1)*Bolts.s + TonguePlate.e)\n",
    "    Dh = SST.section(HSS.size,'D')*mm"
   ]
  },
  {
   "cell_type": "markdown",
   "metadata": {},
   "source": [
    "### Tongue Plate: Bolted End\n",
    "#### Gross Section Yield"
   ]
  },
  {
   "cell_type": "code",
   "execution_count": 19,
   "metadata": {},
   "outputs": [
    {
     "name": "stdout",
     "output_type": "stream",
     "text": [
      "W     = 280       mm\n",
      "T     = 20        mm\n",
      "Fy    = 350       MPa\n",
      "Ag    = 5600      mm²\n",
      "Tr    = 1.764e+06 MPa·mm²\n"
     ]
    },
    {
     "data": {
      "text/plain": [
       "\n",
       "    Tongue Plate, Gross Yield: Tr = 1764 kN"
      ]
     },
     "metadata": {},
     "output_type": "display_data"
    }
   ],
   "source": [
    "with DATA('Tr','Tongue Plate, Gross Yield',\n",
    "          ('W,T,Fy',TonguePlate), locals='Ag'):\n",
    "    Ag = W*T\n",
    "    Tr = phi*Ag*Fy                # S16-14: 13.2 a) i)"
   ]
  },
  {
   "cell_type": "markdown",
   "metadata": {},
   "source": [
    "#### Net Section Fracture"
   ]
  },
  {
   "cell_type": "code",
   "execution_count": 20,
   "metadata": {},
   "outputs": [
    {
     "name": "stdout",
     "output_type": "stream",
     "text": [
      "W        = 280       mm\n",
      "T        = 20        mm\n",
      "Fu       = 450       MPa\n",
      "ha       = 24        mm\n",
      "nperline = 3         \n",
      "wn       = 208       mm\n",
      "Ane      = 4160      mm²\n",
      "Tr       = 1.404e+06 MPa·mm²\n"
     ]
    },
    {
     "data": {
      "text/plain": [
       "\n",
       "    Tongue Plate, Bolted End, Net Section Fracture: Tr = 1404 kN"
      ]
     },
     "metadata": {},
     "output_type": "display_data"
    }
   ],
   "source": [
    "with DATA('Tr','Tongue Plate, Bolted End, Net Section Fracture',\n",
    "          ('W,T,Fu',TonguePlate),\n",
    "          ('ha,nperline',Bolts), locals='wn,Ane'):\n",
    "    wn = W - nperline*ha\n",
    "    Ane = An = wn*T\n",
    "    Tr = phiu*Ane*Fu              # S16-14: 13.2 a) iii)"
   ]
  },
  {
   "cell_type": "markdown",
   "metadata": {},
   "source": [
    "#### Block Shear, Case 1)"
   ]
  },
  {
   "cell_type": "code",
   "execution_count": 21,
   "metadata": {},
   "outputs": [
    {
     "name": "stdout",
     "output_type": "stream",
     "text": [
      "T        = 20        mm\n",
      "e        = 40        mm\n",
      "W        = 280       mm\n",
      "Fy       = 350       MPa\n",
      "Fu       = 450       MPa\n",
      "ha       = 24        mm\n",
      "nperline = 3         \n",
      "nlines   = 2         \n",
      "s        = 75        mm\n",
      "g        = 75        mm\n",
      "An       = 2040      mm²\n",
      "Agv      = 4600      mm²\n",
      "Ut       = 1         \n",
      "Vr       = 1.516e+06 MPa·mm²\n"
     ]
    },
    {
     "data": {
      "text/plain": [
       "\n",
       "    Tongue Plate, Block Shear Case 1): Tr = 1516 kN"
      ]
     },
     "metadata": {},
     "output_type": "display_data"
    }
   ],
   "source": [
    "with DATA('Vr','Tongue Plate, Block Shear Case 1)',\n",
    "          ('T,e,W,Fy,Fu',TonguePlate), \n",
    "          ('ha,nperline,nlines,s,g',Bolts), \n",
    "          locals='An,Agv,Ut'):\n",
    "    An = ((nperline-1)*g - (nperline-1)*ha)*T\n",
    "    Agv = (e + (nlines-1)*s)*T*2\n",
    "    Ut = 1.0\n",
    "    Vr = phiu*(Ut*An*Fu + 0.6*Agv*(Fy+Fu)/2.)     # S16-14: 13.2 a) ii) & 13.11"
   ]
  },
  {
   "cell_type": "markdown",
   "metadata": {},
   "source": [
    "#### Block Shear, Case 2)"
   ]
  },
  {
   "cell_type": "code",
   "execution_count": 22,
   "metadata": {},
   "outputs": [
    {
     "name": "stdout",
     "output_type": "stream",
     "text": [
      "T        = 20        mm\n",
      "e        = 40        mm\n",
      "W        = 280       mm\n",
      "Fy       = 350       MPa\n",
      "Fu       = 450       MPa\n",
      "ha       = 24        mm\n",
      "nperline = 3         \n",
      "nlines   = 2         \n",
      "s        = 75        mm\n",
      "g        = 75        mm\n",
      "edge     = 65        mm\n",
      "An       = 3100      mm²\n",
      "Agv      = 2300      mm²\n",
      "Ut       = 0.8       \n",
      "Vr       = 1.251e+06 MPa·mm²\n"
     ]
    },
    {
     "data": {
      "text/plain": [
       "\n",
       "    Tongue Plate, Block Shear Case 2): Tr = 1251 kN"
      ]
     },
     "metadata": {},
     "output_type": "display_data"
    }
   ],
   "source": [
    "with DATA('Vr','Tongue Plate, Block Shear Case 2)',\n",
    "          ('T,e,W,Fy,Fu',TonguePlate), \n",
    "          ('ha,nperline,nlines,s,g',Bolts), \n",
    "          locals='edge,An,Agv,Ut'):\n",
    "    edge = (W - (nperline-1)*g)/2.0\n",
    "    An = (W - (edge-ha/2.) - nperline*ha)*T\n",
    "    Agv = (e + (nlines-1)*s)*T\n",
    "    Ut = 0.8\n",
    "    Vr = phiu*(Ut*An*Fu + 0.6*Agv*(Fy+Fu)/2.)      # S16-14: 13.2 a) ii) & 13.1"
   ]
  },
  {
   "cell_type": "markdown",
   "metadata": {},
   "source": [
    "#### Block Shear, Case 3)"
   ]
  },
  {
   "cell_type": "code",
   "execution_count": 23,
   "metadata": {},
   "outputs": [
    {
     "name": "stdout",
     "output_type": "stream",
     "text": [
      "T        = 20        mm\n",
      "e        = 40        mm\n",
      "W        = 280       mm\n",
      "Fy       = 350       MPa\n",
      "Fu       = 450       MPa\n",
      "ha       = 24        mm\n",
      "nperline = 3         \n",
      "nlines   = 2         \n",
      "s        = 75        mm\n",
      "g        = 75        mm\n",
      "An       = 3140      mm²\n",
      "Agv      = 4600      mm²\n",
      "Ut       = 0.6       \n",
      "Vr       = 1.464e+06 MPa·mm²\n"
     ]
    },
    {
     "data": {
      "text/plain": [
       "\n",
       "    Tongue Plate, Block Shear Case 3): Tr = 1464 kN"
      ]
     },
     "metadata": {},
     "output_type": "display_data"
    }
   ],
   "source": [
    "with DATA('Vr','Tongue Plate, Block Shear Case 3)',\n",
    "          ('T,e,W,Fy,Fu',TonguePlate), \n",
    "          ('ha,nperline,nlines,s,g',Bolts), \n",
    "          locals='An,Agv,Ut'):\n",
    "    An = (W - nperline*ha - (g-ha))*T\n",
    "    Agv = (e + (nlines-1)*s)*T * 2.\n",
    "    Ut = 0.6\n",
    "    Vr = phiu*(Ut*An*Fu + 0.6*Agv*(Fy+Fu)/2.)       # S16-14: 13.2 a) ii) & 13.11"
   ]
  },
  {
   "cell_type": "markdown",
   "metadata": {},
   "source": [
    "#### Block Shear, Tearout"
   ]
  },
  {
   "cell_type": "code",
   "execution_count": 24,
   "metadata": {},
   "outputs": [
    {
     "name": "stdout",
     "output_type": "stream",
     "text": [
      "T        = 20        mm\n",
      "e        = 40        mm\n",
      "W        = 280       mm\n",
      "Fy       = 350       MPa\n",
      "Fu       = 450       MPa\n",
      "ha       = 24        mm\n",
      "nperline = 3         \n",
      "nlines   = 2         \n",
      "s        = 75        mm\n",
      "g        = 75        mm\n",
      "Agv      = 13800     mm²\n",
      "An       = 0         mm²\n",
      "Ut       = 1         \n",
      "Vr       = 2.484e+06 MPa·mm²\n"
     ]
    },
    {
     "data": {
      "text/plain": [
       "\n",
       "    Tongue Plate tearout: Tr = 2484 kN"
      ]
     },
     "metadata": {},
     "output_type": "display_data"
    }
   ],
   "source": [
    "with DATA('Vr','Tongue Plate tearout',\n",
    "          ('T,e,W,Fy,Fu',TonguePlate), \n",
    "          ('ha,nperline,nlines,s,g',Bolts), \n",
    "          locals='Agv,An,Ut'):\n",
    "    An = 0*mm*mm\n",
    "    Agv = (e + (nlines-1)*s)*T*2*nperline\n",
    "    Ut = 1\n",
    "    Vr = phiu*(Ut*An*Fu + 0.6*Agv*(Fy+Fu)/2.)       # S16-14: 13.2 a) ii) & 13.11"
   ]
  },
  {
   "cell_type": "markdown",
   "metadata": {},
   "source": [
    "### Tongue Plate: Welded End\n",
    "#### Shear Lag - Effective Net Area"
   ]
  },
  {
   "cell_type": "code",
   "execution_count": 25,
   "metadata": {},
   "outputs": [
    {
     "name": "stdout",
     "output_type": "stream",
     "text": [
      "W     = 280       mm\n",
      "w2    = 127       mm\n",
      "L     = 100       mm\n",
      "T     = 20        mm\n",
      "Fu    = 450       MPa\n",
      "w3    = 76.5      mm\n",
      "An2   = 1500      mm²\n",
      "An3   = 944.8     mm²\n",
      "Ane   = 3390      mm²\n",
      "Tr    = 1.144e+06 MPa·mm²\n"
     ]
    },
    {
     "data": {
      "text/plain": [
       "\n",
       "    Tongue Plate, Welded End, Net Section Fracture: Tr = 1144 kN"
      ]
     },
     "metadata": {},
     "output_type": "display_data"
    }
   ],
   "source": [
    "with DATA('Tr','Tongue Plate, Welded End, Net Section Fracture',\n",
    "          ('W,w2=Dh,L=Lw,T,Fu',TonguePlate),\n",
    "          locals='w3,An2,An3,Ane'):\n",
    "    if L >= 2*w2:             # S16-14: 12.3.3.3 b)\n",
    "        An2 = 1.00*w2*T\n",
    "    elif L >= w2:\n",
    "        An2 = 0.5*w2*T + 0.25*L*T\n",
    "    else:\n",
    "        An2 = 0.75*L*T\n",
    "\n",
    "    w3 = (W-w2)/2.            # S16-14: 12.3.3.3 c)\n",
    "    xbar = w3/2.\n",
    "    if L >= w3:\n",
    "        An3 = (1.-xbar/L)*w3*T\n",
    "    else:\n",
    "        An3 = 0.50*L*T\n",
    "    Ane = An2 + An3 + An3     # S16-14: 12.3.3.3 \n",
    "    Tr = phiu*Ane*Fu"
   ]
  },
  {
   "cell_type": "markdown",
   "metadata": {},
   "source": [
    "## Fasteners\n",
    "### Bolts\n",
    "#### Shear"
   ]
  },
  {
   "cell_type": "code",
   "execution_count": 26,
   "metadata": {},
   "outputs": [
    {
     "name": "stdout",
     "output_type": "stream",
     "text": [
      "d                   = 19.05  mm\n",
      "Fu                  = 825    MPa\n",
      "threads_intercepted = True   \n",
      "s                   = 75     mm\n",
      "nlines              = 2      \n",
      "nperline            = 3      \n",
      "n                   = 6      \n",
      "m                   = 2      \n",
      "Ab                  = 285    mm²\n",
      "Vr                  = 948100 MPa·mm²\n"
     ]
    },
    {
     "data": {
      "text/plain": [
       "\n",
       "    Bolts in Shear: Tr = 948.1 kN"
      ]
     },
     "metadata": {},
     "output_type": "display_data"
    }
   ],
   "source": [
    "with DATA('Vr','Bolts in Shear',\n",
    "          ('d,Fu,threads_intercepted,s,nlines,nperline',Bolts), locals='n,m,Ab'):\n",
    "    n = nlines*nperline             # no. of bolts\n",
    "    m = 2                           # no. of faying surfaces\n",
    "    Ab = 3.14159*d*d/4.\n",
    "    Vr = 0.6*phib*n*m*Ab*Fu         # S16-14: 13.12.1.2 c)\n",
    "    L = (nlines-1)*s\n",
    "    if L >= 760*mm:\n",
    "        Vr = (0.5/0.6)*Vr\n",
    "    if threads_intercepted:\n",
    "        Vr = 0.7*Vr"
   ]
  },
  {
   "cell_type": "markdown",
   "metadata": {},
   "source": [
    "#### Bearing"
   ]
  },
  {
   "cell_type": "code",
   "execution_count": 27,
   "metadata": {},
   "outputs": [
    {
     "name": "stdout",
     "output_type": "stream",
     "text": [
      "d        = 19.05     mm\n",
      "nlines   = 2         \n",
      "nperline = 3         \n",
      "Fu       = 450       MPa\n",
      "n        = 6         \n",
      "t        = 20        mm\n",
      "Br       = 2.469e+06 MPa·mm²\n"
     ]
    },
    {
     "data": {
      "text/plain": [
       "\n",
       "    Bolts in Bearing: Tr = 2469 kN"
      ]
     },
     "metadata": {},
     "output_type": "display_data"
    }
   ],
   "source": [
    "with DATA('Br','Bolts in Bearing',\n",
    "          ('d,nlines,nperline',Bolts),\n",
    "          ('Fu',TonguePlate), locals='n,t'):\n",
    "    n = nlines*nperline\n",
    "    t = min(GussetPlate.T,TonguePlate.T,2*LapPlates.T)\n",
    "    Br = 3*phibr*n*t*d*Fu          # S16-14: 13.12.1.2 a)"
   ]
  },
  {
   "cell_type": "markdown",
   "metadata": {},
   "source": [
    "### Welds - HSS to Tongue Plate"
   ]
  },
  {
   "cell_type": "code",
   "execution_count": 28,
   "metadata": {},
   "outputs": [
    {
     "name": "stdout",
     "output_type": "stream",
     "text": [
      "L        = 100    mm\n",
      "D        = 8      mm\n",
      "Xu       = 490    MPa\n",
      "matching = True   \n",
      "Aw       = 2262   mm²\n",
      "Vr       = 497600 MPa·mm²\n"
     ]
    },
    {
     "data": {
      "text/plain": [
       "\n",
       "    Fillet Weld (HSS to Plate): Tr = 497.6 kN    <<<--- GOVERNS"
      ]
     },
     "metadata": {},
     "output_type": "display_data"
    }
   ],
   "source": [
    "with DATA('Vr','Fillet Weld (HSS to Plate)',\n",
    "          ('L=Lw,D',TonguePlate), \n",
    "          ('Xu,matching',Welds), locals='Aw'):\n",
    "    if not matching:\n",
    "        raise Exception('Non matching electrodes')\n",
    "    Aw = 4.*L*D*0.707\n",
    "    Vr = 0.67*phiw*Aw*Xu           # S16-14: 13.13.2.2"
   ]
  },
  {
   "cell_type": "markdown",
   "metadata": {},
   "source": [
    "## HSS + Cover Plate\n",
    "![HSS Details](hss-details.svg)"
   ]
  },
  {
   "cell_type": "markdown",
   "metadata": {},
   "source": [
    "### Net Section Fracture"
   ]
  },
  {
   "cell_type": "code",
   "execution_count": 29,
   "metadata": {},
   "outputs": [
    {
     "name": "stdout",
     "output_type": "stream",
     "text": [
      "D     = 127       mm\n",
      "th    = 12.7      mm\n",
      "A     = 5390      mm²\n",
      "Fyh   = 350       MPa\n",
      "Fuh   = 450       MPa\n",
      "tp    = 10        mm\n",
      "wp    = 60        mm\n",
      "Fyp   = 350       MPa\n",
      "Fup   = 450       MPa\n",
      "tt    = 20        mm\n",
      "Lw    = 100       mm\n",
      "xbar  = 40.71     mm\n",
      "Ag    = 6590      mm²\n",
      "An    = 6082      mm²\n",
      "Ane   = 4214      mm²\n",
      "Fy    = 350       MPa\n",
      "Fu    = 450       MPa\n",
      "Tr    = 1.422e+06 MPa·mm²\n"
     ]
    },
    {
     "data": {
      "text/plain": [
       "\n",
       "    HSS Net Section Fracture: Tr = 1422 kN"
      ]
     },
     "metadata": {},
     "output_type": "display_data"
    }
   ],
   "source": [
    "with DATA('Tr','HSS Net Section Fracture',\n",
    "          ('D,th=T,A,Fyh=Fy,Fuh=Fu',HSS),  \n",
    "          ('tp=T,wp=W,Fyp=Fy,Fup=Fu',CoverPlate),\\\n",
    "          ('tt=T,Lw',TonguePlate), \n",
    "          locals='xbar,Ag,An,Ane,Fy,Fu'):\n",
    "    Fy = min(Fyh,Fyp)     # use min properties of plate & HSS (conservative)\n",
    "    Fu = min(Fuh,Fup)\n",
    "\n",
    "    h = D/2. - th - tt/2.  # height of vertical leg\n",
    "    xbar = (2.*h*th*h/2. + D*th*(h+th/2.) + wp*tp*(h+th+tp/2.))/(2*h*th + D*th + wp*tp)\n",
    "    Ag = A + 2*wp*tp       # gross area of HSS + cover plates\n",
    "    An = Ag - 2.*tt*th     # net area, remove slots cut for tongue\n",
    "    if xbar/Lw > 0.1:                 # S16-14: 12.3.3.4\n",
    "        Ane = (1.1 - xbar/Lw)*An\n",
    "    else:\n",
    "        Ane = An\n",
    "    Tr = phiu*Ane*Fu                # S16-14: 13.2 a) iii)"
   ]
  },
  {
   "cell_type": "markdown",
   "metadata": {},
   "source": [
    "### Gross Section Yield\n",
    "Of HSS _without_ coverplate."
   ]
  },
  {
   "cell_type": "code",
   "execution_count": 30,
   "metadata": {},
   "outputs": [
    {
     "name": "stdout",
     "output_type": "stream",
     "text": [
      "A     = 5390      mm²\n",
      "Fy    = 350       MPa\n",
      "Ag    = 5390      mm²\n",
      "Tr    = 1.698e+06 MPa·mm²\n"
     ]
    },
    {
     "data": {
      "text/plain": [
       "\n",
       "    HSS Gross Section Yield: Tr = 1698 kN"
      ]
     },
     "metadata": {},
     "output_type": "display_data"
    }
   ],
   "source": [
    "with DATA('Tr','HSS Gross Section Yield', ('A,Fy',HSS), locals='Ag'):\n",
    "    Ag = A\n",
    "    Tr = phi*Ag*Fy          # S16-14: 13.2 a) i)"
   ]
  },
  {
   "cell_type": "markdown",
   "metadata": {},
   "source": [
    "## Cover Plate to HSS Weld\n",
    "Ensure that the length of the weld can develop the full strength of the cover plate, between\n",
    "the slot end (@ minimum x-sect area) and end of HSS."
   ]
  },
  {
   "cell_type": "code",
   "execution_count": 31,
   "metadata": {},
   "outputs": [
    {
     "name": "stdout",
     "output_type": "stream",
     "text": [
      "    Coverplate weld strength, gross yield?  NG! *****\n",
      "      (L=90mm, D=6mm, Aw=763.6mm², Vr=168.0kN, Tr=189.0kN)\n",
      "    Coverplate weld strength, net fracture?  NG! *****\n",
      "      (L=90mm, W=60mm, An2=525.0mm², Ane=525.0mm², Vr=168.0kN, Tr=177.2kN)\n",
      "T     = 10    mm\n",
      "W     = 60    mm\n",
      "L     = 90    mm\n",
      "D     = 6     mm\n",
      "Fy    = 350   MPa\n",
      "Fu    = 450   MPa\n",
      "Xu    = 490   MPa\n",
      "Aw    = 763.6 mm²\n",
      "Vr    = 168   kN\n",
      "An    = 600   mm²\n",
      "An2   = 525   mm²\n",
      "Ane   = 525   mm²\n"
     ]
    }
   ],
   "source": [
    "with DATA('', 'Checking Cover Plate',\n",
    "          ('T,W,L=Lw,D,Fy,Fu',CoverPlate),\n",
    "          ('Xu',Welds),\n",
    "          locals='Aw,Vr,An,An2,Ane'):\n",
    "    Aw = 0.707*D*L*2.\n",
    "    Vr = (0.67*phiw*Aw*Xu*1*1).to(kN)            # S16-14: 13.13.2.2, weld strength, to one side\n",
    "    Tr = (phi*(T*W)*Fy).to(kN)                   # S16-14: 13.2 a) i) gross section yield, of cover Plate\n",
    "\n",
    "    CHECK(Vr>=Tr,'Coverplate weld strength, gross yield','L,D,Aw,Vr,Tr')\n",
    "\n",
    "    An = W*T                             # S16-14: 12.3.3.3 b)\n",
    "    if L >= 2*W:                         # Ane of plate\n",
    "        An2 = W*T\n",
    "    elif L >= W:\n",
    "        An2 = 0.5*W*T + 0.25*L*T\n",
    "    else:\n",
    "        An2 = 0.75*L*T\n",
    "    Ane = An2\n",
    "    Tr = (phiu*An2*Fu).to(kN)         # S16-14: 13.2 a) iii)\n",
    "    CHECK(Vr>=Tr,'Coverplate weld strength, net fracture','L,W,An2,Ane,Vr,Tr');"
   ]
  },
  {
   "cell_type": "markdown",
   "metadata": {},
   "source": [
    "## To Do\n",
    "* Alterrnate method for cover plate wld check: Compute Tr with and without cover plate.  Diff is the reqd force\n",
    "in the cover plate. Ensure welds can develop that.\n",
    "* Check that gusset plate doesn't cause undue flexural problems in the flange of the HSS column member."
   ]
  },
  {
   "cell_type": "markdown",
   "metadata": {},
   "source": [
    "## Bolting Details"
   ]
  },
  {
   "cell_type": "markdown",
   "metadata": {},
   "source": [
    "### Lap Plates"
   ]
  },
  {
   "cell_type": "code",
   "execution_count": 32,
   "metadata": {},
   "outputs": [
    {
     "name": "stdout",
     "output_type": "stream",
     "text": [
      "    Bolt min edge distance, lap plate?  OK \n",
      "      (edge=40.0mm, minedge=32mm)\n",
      "    Bolt max edge distance, lap plate?  OK \n",
      "      (edge=40.0mm, maxedge=150mm)\n",
      "    Bolt min end distance, lap plate?  OK \n",
      "      (e=40mm, minend=32mm)\n",
      "    Bolt spacing, lap plate?  OK \n",
      "      (s=75mm, g=75mm, minpitch=51.43mm)\n",
      "W        = 230   mm\n",
      "T        = 20    mm\n",
      "L        = 315   mm\n",
      "e        = 40    mm\n",
      "s        = 75    mm\n",
      "g        = 75    mm\n",
      "nlines   = 2     \n",
      "nperline = 3     \n",
      "d        = 19.05 mm\n",
      "minedge  = 32    mm\n",
      "maxedge  = 150   mm\n",
      "minend   = 32    mm\n",
      "minpitch = 51.43 mm\n"
     ]
    }
   ],
   "source": [
    "with DATA('','',\n",
    "          ('W,T,L,e',LapPlates),\n",
    "          ('s,g,nlines,nperline,d',Bolts),\n",
    "          locals='minedge,maxedge,minend,minpitch'):\n",
    "\n",
    "    minedge = 32*mm                # S16-14: 22.3.2 Table 6, 3/4\" bolt, sheared edge\n",
    "    maxedge = min(150*mm,12.*T)    # S16-14: 22.3.3\n",
    "    minend = 32*mm                 # S16-14: 22.3.4\n",
    "    minpitch = 2.7*d               # S16-14: 22.3.1\n",
    "\n",
    "    edge = (W - (nperline-1)*g)/2.\n",
    "    CHECK(edge>=minedge,'Bolt min edge distance, lap plate','edge,minedge',)\n",
    "    CHECK(edge<=maxedge,'Bolt max edge distance, lap plate','edge,maxedge',)\n",
    "    CHECK(e>=minend,'Bolt min end distance, lap plate','e,minend',)\n",
    "    CHECK(s>=minpitch and g>=minpitch,'Bolt spacing, lap plate','s,g,minpitch')"
   ]
  },
  {
   "cell_type": "markdown",
   "metadata": {},
   "source": [
    "### Tongue Plate"
   ]
  },
  {
   "cell_type": "code",
   "execution_count": 33,
   "metadata": {},
   "outputs": [],
   "source": [
    "# TODO"
   ]
  },
  {
   "cell_type": "markdown",
   "metadata": {},
   "source": [
    "### Gusset Plate"
   ]
  },
  {
   "cell_type": "code",
   "execution_count": 34,
   "metadata": {},
   "outputs": [],
   "source": [
    "# TODO"
   ]
  },
  {
   "cell_type": "markdown",
   "metadata": {},
   "source": [
    "## Welding Details"
   ]
  },
  {
   "cell_type": "markdown",
   "metadata": {},
   "source": [
    "### HSS to Tongue"
   ]
  },
  {
   "cell_type": "code",
   "execution_count": 35,
   "metadata": {},
   "outputs": [],
   "source": [
    "# TODO"
   ]
  },
  {
   "cell_type": "markdown",
   "metadata": {},
   "source": [
    "### Cover PLate to HSS"
   ]
  },
  {
   "cell_type": "code",
   "execution_count": 36,
   "metadata": {},
   "outputs": [],
   "source": [
    "# TODO"
   ]
  },
  {
   "cell_type": "markdown",
   "metadata": {},
   "source": [
    "## Summary"
   ]
  },
  {
   "cell_type": "code",
   "execution_count": 37,
   "metadata": {},
   "outputs": [
    {
     "name": "stdout",
     "output_type": "stream",
     "text": [
      "\n",
      "Summary of DesignNotes for Tr: Typical HSS Cross Brace\n",
      "======================================================\n",
      "\n",
      "Checks:\n",
      "-------\n",
      "    Coverplate weld strength, gross yield?    NG! *****\n",
      "      (L=90mm, D=6mm, Aw=763.6mm², Vr=168.0kN, Tr=189.0kN)\n",
      "    Coverplate weld strength, net fracture?   NG! *****\n",
      "      (L=90mm, W=60mm, An2=525.0mm², Ane=525.0mm², Vr=168.0kN, Tr=177.2kN)\n",
      "    Bolt min edge distance, lap plate?        OK \n",
      "      (edge=40.0mm, minedge=32mm)\n",
      "    Bolt max edge distance, lap plate?        OK \n",
      "      (edge=40.0mm, maxedge=150mm)\n",
      "    Bolt min end distance, lap plate?         OK \n",
      "      (e=40mm, minend=32mm)\n",
      "    Bolt spacing, lap plate?                  OK \n",
      "      (s=75mm, g=75mm, minpitch=51.43mm)\n",
      "\n",
      "Values of Tr:\n",
      "-------------\n",
      "    Gusset to HSS Weld:                             Tr = 2010 kN\n",
      "    Gusset Block Shear Case 1):                     Tr = 1520 kN\n",
      "    Gusset Block Shear Case 2):                     Tr = 1250 kN\n",
      "    Gusset tearout:                                 Tr = 2480 kN\n",
      "    Lap Plates, Gross Yield:                        Tr = 1450 kN\n",
      "    Lap Plates, Net Fracture:                       Tr = 1070 kN\n",
      "    Lap Plates, Block Shear Case 1):                Tr = 1520 kN\n",
      "    Lap Plates, Block Shear Case 2):                Tr = 1120 kN\n",
      "    Lap Plates, Block Shear Case 3):                Tr = 1260 kN\n",
      "    Lap Plates, tearout:                            Tr = 2480 kN\n",
      "    Tongue Plate, Gross Yield:                      Tr = 1760 kN\n",
      "    Tongue Plate, Bolted End, Net Section Fracture: Tr = 1400 kN\n",
      "    Tongue Plate, Block Shear Case 1):              Tr = 1520 kN\n",
      "    Tongue Plate, Block Shear Case 2):              Tr = 1250 kN\n",
      "    Tongue Plate, Block Shear Case 3):              Tr = 1460 kN\n",
      "    Tongue Plate tearout:                           Tr = 2480 kN\n",
      "    Tongue Plate, Welded End, Net Section Fracture: Tr = 1140 kN\n",
      "    Bolts in Shear:                                 Tr = 948 kN\n",
      "    Bolts in Bearing:                               Tr = 2470 kN\n",
      "    Fillet Weld (HSS to Plate):                     Tr = 498 kN    <<<--- GOVERNS\n",
      "    HSS Net Section Fracture:                       Tr = 1420 kN\n",
      "    HSS Gross Section Yield:                        Tr = 1700 kN\n",
      "\n",
      "    Governing Value:\n",
      "    ----------------\n",
      "       Tr = 498 kN\n"
     ]
    }
   ],
   "source": [
    "notes.summary()"
   ]
  },
  {
   "cell_type": "markdown",
   "metadata": {},
   "source": [
    "## Notes\n",
    "\n",
    "* The factored resistance of this component is low, governed by the weld of the HSS to the tongue plate.  Its capacity is 498 kN, almost 1/2 of the next lowest item (the shear strength of the bolts).\n",
    "* To increase the overall strength, the first thing to do would be to increase length of that weld from 100mm to something considerably larger. 200mm of weld would require increasing the length of tongue from 280mm to 380mm but would double that strength at very small cost.\n",
    "* The cover plate welding to the HSS may be inadequate as it is shown. Increasing the length of the HSS to tongue weld will leave space for more weld on the cover plate, up to 190mm on one side of the minimum cross-section, which should be more than enough.\n",
    "* Increasing the HSS to tongue plate weld length may also increase $T_r$ for _Tongue Plate, Welded End, Net Section Fracture_ and _HSS Net Section Fracture_."
   ]
  }
 ],
 "metadata": {
  "kernelspec": {
   "display_name": "Python 3",
   "language": "python",
   "name": "python3"
  },
  "language_info": {
   "codemirror_mode": {
    "name": "ipython",
    "version": 3
   },
   "file_extension": ".py",
   "mimetype": "text/x-python",
   "name": "python",
   "nbconvert_exporter": "python",
   "pygments_lexer": "ipython3",
   "version": "3.7.5"
  }
 },
 "nbformat": 4,
 "nbformat_minor": 4
}
